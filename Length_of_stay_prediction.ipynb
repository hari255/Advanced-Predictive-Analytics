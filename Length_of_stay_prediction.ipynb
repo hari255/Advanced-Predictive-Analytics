{
 "cells": [
  {
   "cell_type": "markdown",
   "metadata": {
    "id": "QmmAY9ANJdiZ"
   },
   "source": [
    "# **Hospital Length of Stay (LOS) Prediction**"
   ]
  },
  {
   "cell_type": "markdown",
   "metadata": {
    "id": "pG7RImq5Jnzy"
   },
   "source": [
    "## **Context:**\n",
    "\n",
    "Hospital management is a vital area that gained a lot of attention during the COVID-19 pandemic. **Inefficient distribution of resources like beds, ventilators might lead to a lot of complications**. However, this can be mitigated by **predicting the length of stay (LOS) of a patient before getting admitted**. Once this is determined, the hospital can plan a suitable treatment, resources, and staff to reduce the LOS and increase the chances of recovery. The rooms and bed can also be planned in accordance with that.\n"
   ]
  },
  {
   "cell_type": "markdown",
   "metadata": {
    "id": "jDFFGBh5JuM_"
   },
   "source": [
    "## **Objective:**\n",
    "\n",
    "To find out **what factors affect the LOS the most, and come up with a machine learning model which can predict the LOS of a patient** using the data available during admission and after running a few tests. Also, **bring about useful insights and policies from the data, which can help the hospital to improve their health care infrastructure and revenue.**"
   ]
  },
  {
   "cell_type": "markdown",
   "metadata": {
    "id": "BY6qQyYnn4av"
   },
   "source": [
    "## **Data Dictionary:**\n",
    "\n",
    "The data contains various information recorded during the time of admission of the patient. It only contains **records of patients who were admitted to the hospital.** The detailed data dictionary is given below:\n",
    "\n",
    "\n",
    "* **patientid**: Patient ID\n",
    "* **Age**: Range of age of the patient\n",
    "* **gender**: Gender of the patient\n",
    "* **Type of Admission**: Trauma, emergency or urgent\n",
    "* **Severity of Illness**: Extreme, moderate, or minor\n",
    "* **health_condition**s: Any previous health conditions suffered by the patient\n",
    "* **Visitors with Patient**: The number of patients who accompany the patient\n",
    "* **Insurance**: Does the patient have health insurance or not?\n",
    "* **Admission_Deposit**: The deposit paid by the patient during admission\n",
    "* **Stay (in days)**: The number of days that the patient has stayed in the hospital. This is the **target variable**\n",
    "* **Available Extra Rooms in Hospital**: The number of rooms available during admission\n",
    "* **Department**: The department which will be treating the patient\n",
    "* **Ward_Facility_Code**: The code of the ward facility in which the patient will be admitted\n",
    "* **doctor_name**: The doctor who will be treating the patient\n",
    "* **staff_available**: The number of staff who are not occupied at the moment in the ward"
   ]
  },
  {
   "cell_type": "markdown",
   "metadata": {
    "id": "1HwCLXEdleNm"
   },
   "source": [
    "## **Table of Contents**\n",
    "\n",
    "1. Import libraries\n",
    "2. Read the dataset and get an overview\n",
    "3. Exploratory data analysis - a. Univariate b. Bivariate\n",
    "4. Data preprocessing if any\n",
    "5. Define the performance metric and build ML models\n",
    "6. Checking for assumptions\n",
    "7. Compare models and determine the best one\n",
    "8. Observations and business insights"
   ]
  },
  {
   "cell_type": "markdown",
   "metadata": {
    "id": "vh6pbSWLJ7pT"
   },
   "source": [
    "## **Importing Libraries**"
   ]
  },
  {
   "cell_type": "code",
   "execution_count": 1,
   "metadata": {
    "id": "tu98q-R-KFfP"
   },
   "outputs": [],
   "source": [
    "import pandas as pd\n",
    "import numpy as np\n",
    "import matplotlib.pyplot as plt\n",
    "import seaborn as sns\n",
    "\n",
    "import warnings\n",
    "warnings.filterwarnings(\"ignore\")\n",
    "\n",
    "# Removes the limit for the number of displayed columns\n",
    "pd.set_option(\"display.max_columns\", None)\n",
    "\n",
    "# Sets the limit for the number of displayed rows\n",
    "pd.set_option(\"display.max_rows\", 200)\n",
    "\n",
    "# To build models for prediction\n",
    "from sklearn.model_selection import train_test_split, cross_val_score, KFold\n",
    "from sklearn.linear_model import LinearRegression, Ridge, Lasso\n",
    "from sklearn.tree import DecisionTreeRegressor\n",
    "from sklearn.ensemble import RandomForestRegressor,BaggingRegressor\n",
    "\n",
    "# To encode categorical variables\n",
    "from sklearn.preprocessing import LabelEncoder\n",
    "\n",
    "# For tuning the model\n",
    "from sklearn.model_selection import GridSearchCV\n",
    "\n",
    "# To check model performance\n",
    "from sklearn.metrics import make_scorer,mean_squared_error, r2_score, mean_absolute_error"
   ]
  },
  {
   "cell_type": "code",
   "execution_count": 2,
   "metadata": {
    "colab": {
     "base_uri": "https://localhost:8080/",
     "height": 328
    },
    "id": "VvautAjCU6Im",
    "outputId": "84ae08b3-71d1-452b-d264-9e26e32ec842"
   },
   "outputs": [],
   "source": [
    "# Read the healthcare dataset file\n",
    "data = pd.read_csv(\"healthcare_data.csv\")"
   ]
  },
  {
   "cell_type": "code",
   "execution_count": 3,
   "metadata": {
    "id": "HAW7LbQGDzc_"
   },
   "outputs": [],
   "source": [
    "# Copying data to another variable to avoid any changes to original data\n",
    "same_data = data.copy()"
   ]
  },
  {
   "cell_type": "markdown",
   "metadata": {
    "id": "uUEuNqtbPVT0"
   },
   "source": [
    "## **Data Overview**"
   ]
  },
  {
   "cell_type": "code",
   "execution_count": 4,
   "metadata": {
    "id": "1WBP3qyFFlAM"
   },
   "outputs": [
    {
     "data": {
      "text/html": [
       "<div>\n",
       "<style scoped>\n",
       "    .dataframe tbody tr th:only-of-type {\n",
       "        vertical-align: middle;\n",
       "    }\n",
       "\n",
       "    .dataframe tbody tr th {\n",
       "        vertical-align: top;\n",
       "    }\n",
       "\n",
       "    .dataframe thead th {\n",
       "        text-align: right;\n",
       "    }\n",
       "</style>\n",
       "<table border=\"1\" class=\"dataframe\">\n",
       "  <thead>\n",
       "    <tr style=\"text-align: right;\">\n",
       "      <th></th>\n",
       "      <th>Available Extra Rooms in Hospital</th>\n",
       "      <th>Department</th>\n",
       "      <th>Ward_Facility_Code</th>\n",
       "      <th>doctor_name</th>\n",
       "      <th>staff_available</th>\n",
       "      <th>patientid</th>\n",
       "      <th>Age</th>\n",
       "      <th>gender</th>\n",
       "      <th>Type of Admission</th>\n",
       "      <th>Severity of Illness</th>\n",
       "      <th>health_conditions</th>\n",
       "      <th>Visitors with Patient</th>\n",
       "      <th>Insurance</th>\n",
       "      <th>Admission_Deposit</th>\n",
       "      <th>Stay (in days)</th>\n",
       "    </tr>\n",
       "  </thead>\n",
       "  <tbody>\n",
       "    <tr>\n",
       "      <th>0</th>\n",
       "      <td>4</td>\n",
       "      <td>gynecology</td>\n",
       "      <td>D</td>\n",
       "      <td>Dr Sophia</td>\n",
       "      <td>0</td>\n",
       "      <td>33070</td>\n",
       "      <td>41-50</td>\n",
       "      <td>Female</td>\n",
       "      <td>Trauma</td>\n",
       "      <td>Extreme</td>\n",
       "      <td>Diabetes</td>\n",
       "      <td>4</td>\n",
       "      <td>Yes</td>\n",
       "      <td>2966.408696</td>\n",
       "      <td>8</td>\n",
       "    </tr>\n",
       "    <tr>\n",
       "      <th>1</th>\n",
       "      <td>4</td>\n",
       "      <td>gynecology</td>\n",
       "      <td>B</td>\n",
       "      <td>Dr Sophia</td>\n",
       "      <td>2</td>\n",
       "      <td>34808</td>\n",
       "      <td>31-40</td>\n",
       "      <td>Female</td>\n",
       "      <td>Trauma</td>\n",
       "      <td>Minor</td>\n",
       "      <td>Heart disease</td>\n",
       "      <td>2</td>\n",
       "      <td>No</td>\n",
       "      <td>3554.835677</td>\n",
       "      <td>9</td>\n",
       "    </tr>\n",
       "    <tr>\n",
       "      <th>2</th>\n",
       "      <td>2</td>\n",
       "      <td>gynecology</td>\n",
       "      <td>B</td>\n",
       "      <td>Dr Sophia</td>\n",
       "      <td>8</td>\n",
       "      <td>44577</td>\n",
       "      <td>21-30</td>\n",
       "      <td>Female</td>\n",
       "      <td>Trauma</td>\n",
       "      <td>Extreme</td>\n",
       "      <td>Diabetes</td>\n",
       "      <td>2</td>\n",
       "      <td>Yes</td>\n",
       "      <td>5624.733654</td>\n",
       "      <td>7</td>\n",
       "    </tr>\n",
       "    <tr>\n",
       "      <th>3</th>\n",
       "      <td>4</td>\n",
       "      <td>gynecology</td>\n",
       "      <td>D</td>\n",
       "      <td>Dr Olivia</td>\n",
       "      <td>7</td>\n",
       "      <td>3695</td>\n",
       "      <td>31-40</td>\n",
       "      <td>Female</td>\n",
       "      <td>Urgent</td>\n",
       "      <td>Moderate</td>\n",
       "      <td>None</td>\n",
       "      <td>4</td>\n",
       "      <td>No</td>\n",
       "      <td>4814.149231</td>\n",
       "      <td>8</td>\n",
       "    </tr>\n",
       "    <tr>\n",
       "      <th>4</th>\n",
       "      <td>2</td>\n",
       "      <td>anesthesia</td>\n",
       "      <td>E</td>\n",
       "      <td>Dr Mark</td>\n",
       "      <td>10</td>\n",
       "      <td>108956</td>\n",
       "      <td>71-80</td>\n",
       "      <td>Male</td>\n",
       "      <td>Trauma</td>\n",
       "      <td>Moderate</td>\n",
       "      <td>Diabetes</td>\n",
       "      <td>2</td>\n",
       "      <td>No</td>\n",
       "      <td>5169.269637</td>\n",
       "      <td>34</td>\n",
       "    </tr>\n",
       "  </tbody>\n",
       "</table>\n",
       "</div>"
      ],
      "text/plain": [
       "   Available Extra Rooms in Hospital  Department Ward_Facility_Code  \\\n",
       "0                                  4  gynecology                  D   \n",
       "1                                  4  gynecology                  B   \n",
       "2                                  2  gynecology                  B   \n",
       "3                                  4  gynecology                  D   \n",
       "4                                  2  anesthesia                  E   \n",
       "\n",
       "  doctor_name  staff_available  patientid    Age  gender Type of Admission  \\\n",
       "0   Dr Sophia                0      33070  41-50  Female            Trauma   \n",
       "1   Dr Sophia                2      34808  31-40  Female            Trauma   \n",
       "2   Dr Sophia                8      44577  21-30  Female            Trauma   \n",
       "3   Dr Olivia                7       3695  31-40  Female            Urgent   \n",
       "4     Dr Mark               10     108956  71-80    Male            Trauma   \n",
       "\n",
       "  Severity of Illness health_conditions  Visitors with Patient Insurance  \\\n",
       "0             Extreme          Diabetes                      4       Yes   \n",
       "1               Minor     Heart disease                      2        No   \n",
       "2             Extreme          Diabetes                      2       Yes   \n",
       "3            Moderate              None                      4        No   \n",
       "4            Moderate          Diabetes                      2        No   \n",
       "\n",
       "   Admission_Deposit  Stay (in days)  \n",
       "0        2966.408696               8  \n",
       "1        3554.835677               9  \n",
       "2        5624.733654               7  \n",
       "3        4814.149231               8  \n",
       "4        5169.269637              34  "
      ]
     },
     "execution_count": 4,
     "metadata": {},
     "output_type": "execute_result"
    }
   ],
   "source": [
    "# View the first 5 rows of the dataset\n",
    "data.head()"
   ]
  },
  {
   "cell_type": "code",
   "execution_count": 5,
   "metadata": {
    "id": "G-JcE75QFv6o"
   },
   "outputs": [
    {
     "data": {
      "text/html": [
       "<div>\n",
       "<style scoped>\n",
       "    .dataframe tbody tr th:only-of-type {\n",
       "        vertical-align: middle;\n",
       "    }\n",
       "\n",
       "    .dataframe tbody tr th {\n",
       "        vertical-align: top;\n",
       "    }\n",
       "\n",
       "    .dataframe thead th {\n",
       "        text-align: right;\n",
       "    }\n",
       "</style>\n",
       "<table border=\"1\" class=\"dataframe\">\n",
       "  <thead>\n",
       "    <tr style=\"text-align: right;\">\n",
       "      <th></th>\n",
       "      <th>Available Extra Rooms in Hospital</th>\n",
       "      <th>Department</th>\n",
       "      <th>Ward_Facility_Code</th>\n",
       "      <th>doctor_name</th>\n",
       "      <th>staff_available</th>\n",
       "      <th>patientid</th>\n",
       "      <th>Age</th>\n",
       "      <th>gender</th>\n",
       "      <th>Type of Admission</th>\n",
       "      <th>Severity of Illness</th>\n",
       "      <th>health_conditions</th>\n",
       "      <th>Visitors with Patient</th>\n",
       "      <th>Insurance</th>\n",
       "      <th>Admission_Deposit</th>\n",
       "      <th>Stay (in days)</th>\n",
       "    </tr>\n",
       "  </thead>\n",
       "  <tbody>\n",
       "    <tr>\n",
       "      <th>499995</th>\n",
       "      <td>4</td>\n",
       "      <td>gynecology</td>\n",
       "      <td>F</td>\n",
       "      <td>Dr Sarah</td>\n",
       "      <td>2</td>\n",
       "      <td>43001</td>\n",
       "      <td>11-20</td>\n",
       "      <td>Female</td>\n",
       "      <td>Trauma</td>\n",
       "      <td>Minor</td>\n",
       "      <td>High Blood Pressure</td>\n",
       "      <td>3</td>\n",
       "      <td>No</td>\n",
       "      <td>4105.795901</td>\n",
       "      <td>10</td>\n",
       "    </tr>\n",
       "    <tr>\n",
       "      <th>499996</th>\n",
       "      <td>13</td>\n",
       "      <td>gynecology</td>\n",
       "      <td>F</td>\n",
       "      <td>Dr Olivia</td>\n",
       "      <td>8</td>\n",
       "      <td>85601</td>\n",
       "      <td>31-40</td>\n",
       "      <td>Female</td>\n",
       "      <td>Emergency</td>\n",
       "      <td>Moderate</td>\n",
       "      <td>Other</td>\n",
       "      <td>2</td>\n",
       "      <td>No</td>\n",
       "      <td>4631.550257</td>\n",
       "      <td>11</td>\n",
       "    </tr>\n",
       "    <tr>\n",
       "      <th>499997</th>\n",
       "      <td>2</td>\n",
       "      <td>gynecology</td>\n",
       "      <td>B</td>\n",
       "      <td>Dr Sarah</td>\n",
       "      <td>3</td>\n",
       "      <td>22447</td>\n",
       "      <td>11-20</td>\n",
       "      <td>Female</td>\n",
       "      <td>Emergency</td>\n",
       "      <td>Moderate</td>\n",
       "      <td>High Blood Pressure</td>\n",
       "      <td>2</td>\n",
       "      <td>No</td>\n",
       "      <td>5456.930075</td>\n",
       "      <td>8</td>\n",
       "    </tr>\n",
       "    <tr>\n",
       "      <th>499998</th>\n",
       "      <td>2</td>\n",
       "      <td>radiotherapy</td>\n",
       "      <td>A</td>\n",
       "      <td>Dr John</td>\n",
       "      <td>1</td>\n",
       "      <td>29957</td>\n",
       "      <td>61-70</td>\n",
       "      <td>Female</td>\n",
       "      <td>Trauma</td>\n",
       "      <td>Extreme</td>\n",
       "      <td>Diabetes</td>\n",
       "      <td>2</td>\n",
       "      <td>No</td>\n",
       "      <td>4694.127772</td>\n",
       "      <td>23</td>\n",
       "    </tr>\n",
       "    <tr>\n",
       "      <th>499999</th>\n",
       "      <td>3</td>\n",
       "      <td>gynecology</td>\n",
       "      <td>F</td>\n",
       "      <td>Dr Sophia</td>\n",
       "      <td>3</td>\n",
       "      <td>45008</td>\n",
       "      <td>41-50</td>\n",
       "      <td>Female</td>\n",
       "      <td>Trauma</td>\n",
       "      <td>Moderate</td>\n",
       "      <td>Heart disease</td>\n",
       "      <td>4</td>\n",
       "      <td>Yes</td>\n",
       "      <td>4713.868519</td>\n",
       "      <td>10</td>\n",
       "    </tr>\n",
       "  </tbody>\n",
       "</table>\n",
       "</div>"
      ],
      "text/plain": [
       "        Available Extra Rooms in Hospital    Department Ward_Facility_Code  \\\n",
       "499995                                  4    gynecology                  F   \n",
       "499996                                 13    gynecology                  F   \n",
       "499997                                  2    gynecology                  B   \n",
       "499998                                  2  radiotherapy                  A   \n",
       "499999                                  3    gynecology                  F   \n",
       "\n",
       "       doctor_name  staff_available  patientid    Age  gender  \\\n",
       "499995    Dr Sarah                2      43001  11-20  Female   \n",
       "499996   Dr Olivia                8      85601  31-40  Female   \n",
       "499997    Dr Sarah                3      22447  11-20  Female   \n",
       "499998     Dr John                1      29957  61-70  Female   \n",
       "499999   Dr Sophia                3      45008  41-50  Female   \n",
       "\n",
       "       Type of Admission Severity of Illness    health_conditions  \\\n",
       "499995            Trauma               Minor  High Blood Pressure   \n",
       "499996         Emergency            Moderate                Other   \n",
       "499997         Emergency            Moderate  High Blood Pressure   \n",
       "499998            Trauma             Extreme             Diabetes   \n",
       "499999            Trauma            Moderate        Heart disease   \n",
       "\n",
       "        Visitors with Patient Insurance  Admission_Deposit  Stay (in days)  \n",
       "499995                      3        No        4105.795901              10  \n",
       "499996                      2        No        4631.550257              11  \n",
       "499997                      2        No        5456.930075               8  \n",
       "499998                      2        No        4694.127772              23  \n",
       "499999                      4       Yes        4713.868519              10  "
      ]
     },
     "execution_count": 5,
     "metadata": {},
     "output_type": "execute_result"
    }
   ],
   "source": [
    "# View the last 5 rows of the dataset\n",
    "data.tail()"
   ]
  },
  {
   "cell_type": "code",
   "execution_count": 6,
   "metadata": {
    "id": "oh0JY34cdYHB"
   },
   "outputs": [
    {
     "data": {
      "text/plain": [
       "(500000, 15)"
      ]
     },
     "execution_count": 6,
     "metadata": {},
     "output_type": "execute_result"
    }
   ],
   "source": [
    "# Understand the shape of the data\n",
    "data.shape"
   ]
  },
  {
   "cell_type": "markdown",
   "metadata": {
    "id": "JKUvaKzkdjUc"
   },
   "source": [
    "- The dataset has **5,00,000 rows and 15 columns.**"
   ]
  },
  {
   "cell_type": "code",
   "execution_count": 7,
   "metadata": {
    "id": "shfF1UM7Ke5E"
   },
   "outputs": [
    {
     "name": "stdout",
     "output_type": "stream",
     "text": [
      "<class 'pandas.core.frame.DataFrame'>\n",
      "RangeIndex: 500000 entries, 0 to 499999\n",
      "Data columns (total 15 columns):\n",
      " #   Column                             Non-Null Count   Dtype  \n",
      "---  ------                             --------------   -----  \n",
      " 0   Available Extra Rooms in Hospital  500000 non-null  int64  \n",
      " 1   Department                         500000 non-null  object \n",
      " 2   Ward_Facility_Code                 500000 non-null  object \n",
      " 3   doctor_name                        500000 non-null  object \n",
      " 4   staff_available                    500000 non-null  int64  \n",
      " 5   patientid                          500000 non-null  int64  \n",
      " 6   Age                                500000 non-null  object \n",
      " 7   gender                             500000 non-null  object \n",
      " 8   Type of Admission                  500000 non-null  object \n",
      " 9   Severity of Illness                500000 non-null  object \n",
      " 10  health_conditions                  500000 non-null  object \n",
      " 11  Visitors with Patient              500000 non-null  int64  \n",
      " 12  Insurance                          500000 non-null  object \n",
      " 13  Admission_Deposit                  500000 non-null  float64\n",
      " 14  Stay (in days)                     500000 non-null  int64  \n",
      "dtypes: float64(1), int64(5), object(9)\n",
      "memory usage: 57.2+ MB\n"
     ]
    }
   ],
   "source": [
    "# Checking the info of the data\n",
    "data.info()"
   ]
  },
  {
   "cell_type": "markdown",
   "metadata": {
    "id": "1LQeBs4sPHNK"
   },
   "source": [
    "**Observations:**\n",
    "\n",
    "-  Available Extra Rooms in Hospital, staff_available, patientid, Visitors with Patient, Admission_Deposit, and Stay (in days) are of **numeric data type** and the rest of the columns are of **object data type**.\n",
    "- The number of non-null values is the same as the total number of entries in the data, i.e., **there are no null values.**\n",
    "- The column patientid is an identifier for patients in the data. This column will not help with our analysis so we can drop it."
   ]
  },
  {
   "cell_type": "code",
   "execution_count": 8,
   "metadata": {
    "id": "z5Xba7tEO9KE"
   },
   "outputs": [
    {
     "data": {
      "text/plain": [
       "126719    21\n",
       "125695    21\n",
       "44572     21\n",
       "126623    21\n",
       "125625    19\n",
       "          ..\n",
       "37634      1\n",
       "91436      1\n",
       "118936     1\n",
       "52366      1\n",
       "105506     1\n",
       "Name: patientid, Length: 126399, dtype: int64"
      ]
     },
     "execution_count": 8,
     "metadata": {},
     "output_type": "execute_result"
    }
   ],
   "source": [
    "# To view patientid and the number of times they have been admitted to the hospital\n",
    "data['patientid'].value_counts()"
   ]
  },
  {
   "cell_type": "markdown",
   "metadata": {
    "id": "4pgZWSL-1vS5"
   },
   "source": [
    "**Observation:**\n",
    "\n",
    "- **The maximum number of times the same patient admitted to the hospital is 21 and minimum is 1.**"
   ]
  },
  {
   "cell_type": "code",
   "execution_count": 9,
   "metadata": {
    "id": "HM40YACV7O5j"
   },
   "outputs": [],
   "source": [
    "# Dropping patientid from the data as it is an identifier and will not add value to the analysis\n",
    "data=data.drop(columns=[\"patientid\"])"
   ]
  },
  {
   "cell_type": "code",
   "execution_count": 10,
   "metadata": {
    "id": "z73h7AF9r1PM"
   },
   "outputs": [
    {
     "data": {
      "text/plain": [
       "0"
      ]
     },
     "execution_count": 10,
     "metadata": {},
     "output_type": "execute_result"
    }
   ],
   "source": [
    "# Checking for duplicate values in the data\n",
    "data.duplicated().sum()"
   ]
  },
  {
   "cell_type": "markdown",
   "metadata": {
    "id": "kp4_mcJjP3LE"
   },
   "source": [
    "**Observation:** \n",
    "- Data contains unique rows. There is no need to remove any rows."
   ]
  },
  {
   "cell_type": "code",
   "execution_count": 11,
   "metadata": {
    "id": "QIvXLbuuSuEE"
   },
   "outputs": [
    {
     "data": {
      "text/html": [
       "<div>\n",
       "<style scoped>\n",
       "    .dataframe tbody tr th:only-of-type {\n",
       "        vertical-align: middle;\n",
       "    }\n",
       "\n",
       "    .dataframe tbody tr th {\n",
       "        vertical-align: top;\n",
       "    }\n",
       "\n",
       "    .dataframe thead th {\n",
       "        text-align: right;\n",
       "    }\n",
       "</style>\n",
       "<table border=\"1\" class=\"dataframe\">\n",
       "  <thead>\n",
       "    <tr style=\"text-align: right;\">\n",
       "      <th></th>\n",
       "      <th>count</th>\n",
       "      <th>mean</th>\n",
       "      <th>std</th>\n",
       "      <th>min</th>\n",
       "      <th>25%</th>\n",
       "      <th>50%</th>\n",
       "      <th>75%</th>\n",
       "      <th>max</th>\n",
       "    </tr>\n",
       "  </thead>\n",
       "  <tbody>\n",
       "    <tr>\n",
       "      <th>Available Extra Rooms in Hospital</th>\n",
       "      <td>500000.0</td>\n",
       "      <td>3.638800</td>\n",
       "      <td>2.698124</td>\n",
       "      <td>0.000000</td>\n",
       "      <td>2.000000</td>\n",
       "      <td>3.000000</td>\n",
       "      <td>4.000000</td>\n",
       "      <td>24.00000</td>\n",
       "    </tr>\n",
       "    <tr>\n",
       "      <th>staff_available</th>\n",
       "      <td>500000.0</td>\n",
       "      <td>5.020470</td>\n",
       "      <td>3.158103</td>\n",
       "      <td>0.000000</td>\n",
       "      <td>2.000000</td>\n",
       "      <td>5.000000</td>\n",
       "      <td>8.000000</td>\n",
       "      <td>10.00000</td>\n",
       "    </tr>\n",
       "    <tr>\n",
       "      <th>Visitors with Patient</th>\n",
       "      <td>500000.0</td>\n",
       "      <td>3.549414</td>\n",
       "      <td>2.241054</td>\n",
       "      <td>0.000000</td>\n",
       "      <td>2.000000</td>\n",
       "      <td>3.000000</td>\n",
       "      <td>4.000000</td>\n",
       "      <td>32.00000</td>\n",
       "    </tr>\n",
       "    <tr>\n",
       "      <th>Admission_Deposit</th>\n",
       "      <td>500000.0</td>\n",
       "      <td>4722.315734</td>\n",
       "      <td>1047.324220</td>\n",
       "      <td>1654.005148</td>\n",
       "      <td>4071.714532</td>\n",
       "      <td>4627.003792</td>\n",
       "      <td>5091.612717</td>\n",
       "      <td>10104.72639</td>\n",
       "    </tr>\n",
       "    <tr>\n",
       "      <th>Stay (in days)</th>\n",
       "      <td>500000.0</td>\n",
       "      <td>12.381062</td>\n",
       "      <td>7.913174</td>\n",
       "      <td>3.000000</td>\n",
       "      <td>8.000000</td>\n",
       "      <td>9.000000</td>\n",
       "      <td>11.000000</td>\n",
       "      <td>51.00000</td>\n",
       "    </tr>\n",
       "  </tbody>\n",
       "</table>\n",
       "</div>"
      ],
      "text/plain": [
       "                                      count         mean          std  \\\n",
       "Available Extra Rooms in Hospital  500000.0     3.638800     2.698124   \n",
       "staff_available                    500000.0     5.020470     3.158103   \n",
       "Visitors with Patient              500000.0     3.549414     2.241054   \n",
       "Admission_Deposit                  500000.0  4722.315734  1047.324220   \n",
       "Stay (in days)                     500000.0    12.381062     7.913174   \n",
       "\n",
       "                                           min          25%          50%  \\\n",
       "Available Extra Rooms in Hospital     0.000000     2.000000     3.000000   \n",
       "staff_available                       0.000000     2.000000     5.000000   \n",
       "Visitors with Patient                 0.000000     2.000000     3.000000   \n",
       "Admission_Deposit                  1654.005148  4071.714532  4627.003792   \n",
       "Stay (in days)                        3.000000     8.000000     9.000000   \n",
       "\n",
       "                                           75%          max  \n",
       "Available Extra Rooms in Hospital     4.000000     24.00000  \n",
       "staff_available                       8.000000     10.00000  \n",
       "Visitors with Patient                 4.000000     32.00000  \n",
       "Admission_Deposit                  5091.612717  10104.72639  \n",
       "Stay (in days)                       11.000000     51.00000  "
      ]
     },
     "execution_count": 11,
     "metadata": {},
     "output_type": "execute_result"
    }
   ],
   "source": [
    "# Checking the descriptive statistics of the columns\n",
    "data.describe().T"
   ]
  },
  {
   "cell_type": "markdown",
   "metadata": {
    "id": "sTfliAV--0q5"
   },
   "source": [
    "**Observations:**\n",
    "\n",
    "* There are around **3 rooms available in the hospital on average** and there are times when the hospital is full and there are no rooms available (minimum value is 0). The **maximum number of rooms available in the hospital is 24**.\n",
    "* **On average, there are around 5 staff personnel available to treat the new patients** but it can also be zero at times. The maximum number of staff available in the hospital is 10.\n",
    "* **On average, around 3 visitors accompany the patient.** Some patients come on their own (minimum value is zero) and a few cases have 32 visitors. It will be interesting to see if there is any relationship between the number of visitors and the severity of the patient.\n",
    "* **The average admission deposit lies around 4,722 dollars and a minimum of 1,654 dollars is paid on every admission.**\n",
    "* **Patient's stay ranges from 3 to 51 days.** There might be outliers in this variable. The median length of stay is 9 days."
   ]
  },
  {
   "cell_type": "code",
   "execution_count": 108,
   "metadata": {
    "id": "wYe3XYCFS1ru"
   },
   "outputs": [
    {
     "name": "stdout",
     "output_type": "stream",
     "text": [
      "gynecology            0.686956\n",
      "radiotherapy          0.168630\n",
      "anesthesia            0.088358\n",
      "TB & Chest disease    0.045780\n",
      "surgery               0.010276\n",
      "Name: Department, dtype: float64\n",
      "--------------------------------------------------\n",
      "Trauma       0.621072\n",
      "Emergency    0.271568\n",
      "Urgent       0.107360\n",
      "Name: Type of Admission, dtype: float64\n",
      "--------------------------------------------------\n",
      "Moderate    0.560394\n",
      "Minor       0.263074\n",
      "Extreme     0.176532\n",
      "Name: Severity of Illness, dtype: float64\n",
      "--------------------------------------------------\n",
      "Female    0.74162\n",
      "Male      0.20696\n",
      "Other     0.05142\n",
      "Name: gender, dtype: float64\n",
      "--------------------------------------------------\n",
      "Yes    0.78592\n",
      "No     0.21408\n",
      "Name: Insurance, dtype: float64\n",
      "--------------------------------------------------\n",
      "None                   0.303776\n",
      "Other                  0.188822\n",
      "High Blood Pressure    0.158804\n",
      "Diabetes               0.147288\n",
      "Asthama                0.131028\n",
      "Heart disease          0.070282\n",
      "Name: health_conditions, dtype: float64\n",
      "--------------------------------------------------\n",
      "Dr Sarah     0.199192\n",
      "Dr Olivia    0.196704\n",
      "Dr Sophia    0.149506\n",
      "Dr Nathan    0.141554\n",
      "Dr Sam       0.111422\n",
      "Dr John      0.102526\n",
      "Dr Mark      0.088820\n",
      "Dr Isaac     0.006718\n",
      "Dr Simon     0.003558\n",
      "Name: doctor_name, dtype: float64\n",
      "--------------------------------------------------\n",
      "F    0.241076\n",
      "D    0.238110\n",
      "B    0.207770\n",
      "E    0.190748\n",
      "A    0.093102\n",
      "C    0.029194\n",
      "Name: Ward_Facility_Code, dtype: float64\n",
      "--------------------------------------------------\n",
      "21-30     0.319586\n",
      "31-40     0.266746\n",
      "41-50     0.160812\n",
      "11-20     0.093072\n",
      "61-70     0.053112\n",
      "51-60     0.043436\n",
      "71-80     0.037406\n",
      "81-90     0.016362\n",
      "0-10      0.006736\n",
      "91-100    0.002732\n",
      "Name: Age, dtype: float64\n",
      "--------------------------------------------------\n"
     ]
    }
   ],
   "source": [
    "# List of all important categorical variables\n",
    "cat_col = [\"Department\", \"Type of Admission\", 'Severity of Illness', 'gender', 'Insurance', 'health_conditions', 'doctor_name', \"Ward_Facility_Code\", \"Age\"]\n",
    "\n",
    "# Printing the number of occurrences of each unique value in each categorical column\n",
    "for column in cat_col:\n",
    "    print(data[column].value_counts(1))\n",
    "    print(\"-\" * 50)"
   ]
  },
  {
   "cell_type": "markdown",
   "metadata": {
    "id": "NSIXtFmtgeNJ"
   },
   "source": [
    "**Observations:**\n",
    "\n",
    "- **The majority of patients (~82%) admit to the hospital with moderate and minor illness**, which is understandable as extreme illness is less frequent than moderate and minor illness. \n",
    "- **Gynecology department gets the most number of patients (~68%)** in the hospital, whereas patients in Surgery department are very few (~1%).\n",
    "- **Ward A and C accommodate the least number of patients (~12%).** These might be wards reserved for patient with extreme illness and patients who need surgery. It would be interesting to see if patients from these wards also stay for longer duration.\n",
    "- **The majority of patients belong to the age group of 21-50 (~75%), and the majority of patients are women (~74%).** The most number of patients in the gynecology department of the hospital can justify this.\n",
    "- Most of the patients admitted to the hospital are the cases of trauma (~62%).\n",
    "- After 'Other' category, **High Blood Pressure and Diabetes are the most common health conditions.**"
   ]
  },
  {
   "cell_type": "markdown",
   "metadata": {
    "id": "wTHU4IPogofK"
   },
   "source": [
    "## **Exploratory Data Analysis (EDA)**"
   ]
  },
  {
   "cell_type": "markdown",
   "metadata": {
    "id": "gU_-9VCyskuV"
   },
   "source": [
    "### **Univariate Analysis**"
   ]
  },
  {
   "cell_type": "code",
   "execution_count": 109,
   "metadata": {
    "id": "3FXeuDBXU3Dv"
   },
   "outputs": [],
   "source": [
    "# Function to plot a boxplot and a histogram along the same scale\n",
    "\n",
    "def histogram_boxplot(data, feature, figsize=(12, 7), kde=False, bins=None):\n",
    "    \"\"\"\n",
    "    Boxplot and histogram combined\n",
    "    data: dataframe\n",
    "    feature: dataframe column\n",
    "    figsize: size of figure (default (12,7))\n",
    "    kde: whether to the show density curve (default False)\n",
    "    bins: number of bins for histogram (default None)\n",
    "    \n",
    "    \"\"\"\n",
    "    f2, (ax_box2, ax_hist2) = plt.subplots(\n",
    "        nrows = 2,      # Number of rows of the subplot grid = 2\n",
    "        sharex = True,  # x-axis will be shared among all subplots\n",
    "        gridspec_kw = {\"height_ratios\": (0.25, 0.75)},\n",
    "        figsize = figsize,\n",
    "    )                   # Creating the 2 subplots\n",
    "    sns.boxplot(data = data, x = feature, ax = ax_box2, showmeans = True, color = \"violet\"\n",
    "    )                   # Boxplot will be created and a star will indicate the mean value of the column\n",
    "    sns.histplot(\n",
    "        data = data, x = feature, kde = kde, ax = ax_hist2, bins = bins, palette = \"winter\"\n",
    "    ) if bins else sns.histplot(\n",
    "        data = data, x = feature, kde = kde, ax = ax_hist2\n",
    "    )                   # For histogram\n",
    "    ax_hist2.axvline(\n",
    "        data[feature].mean(), color = \"green\", linestyle = \"--\"\n",
    "    )                   # Add mean to the histogram\n",
    "    ax_hist2.axvline(\n",
    "        data[feature].median(), color = \"black\", linestyle = \"-\"\n",
    "    )                   # Add median to the histogram"
   ]
  },
  {
   "cell_type": "markdown",
   "metadata": {
    "id": "jeEmAqhGBlQ3"
   },
   "source": [
    "#### **Length of stay**"
   ]
  },
  {
   "cell_type": "code",
   "execution_count": 110,
   "metadata": {
    "id": "eZavZx-IU47X"
   },
   "outputs": [
    {
     "data": {
      "image/png": "[encoded data removed]",
      "text/plain": [
       "<Figure size 864x504 with 2 Axes>"
      ]
     },
     "metadata": {
      "needs_background": "light"
     },
     "output_type": "display_data"
    }
   ],
   "source": [
    "histogram_boxplot(data, \"Stay (in days)\", kde = True, bins = 30)"
   ]
  },
  {
   "cell_type": "markdown",
   "metadata": {
    "id": "0f59iZeHCE9m"
   },
   "source": [
    "**Observations:**\n",
    "\n",
    "- **Fewer patients are staying more than 10 days in the hospital and very few stay for more than 40 days**. This might be because the majority of patients are admitted for moderate or minor illnesses. \n",
    "- The peak of the distribution shows that **most of the patients stay for 8-9 days in the hospital.** "
   ]
  },
  {
   "cell_type": "markdown",
   "metadata": {
    "id": "zwYRba3GCmMR"
   },
   "source": [
    "#### **Admission Deposit**"
   ]
  },
  {
   "cell_type": "code",
   "execution_count": 111,
   "metadata": {
    "id": "45-b0yudsw8V"
   },
   "outputs": [
    {
     "data": {
      "image/png": "[encoded data removed]",
      "text/plain": [
       "<Figure size 864x504 with 2 Axes>"
      ]
     },
     "metadata": {
      "needs_background": "light"
     },
     "output_type": "display_data"
    }
   ],
   "source": [
    "histogram_boxplot(data, \"Admission_Deposit\", kde = True, bins = 30)"
   ]
  },
  {
   "cell_type": "markdown",
   "metadata": {
    "id": "1iuWUHFtC40E"
   },
   "source": [
    "**Observation:**\n",
    "\n",
    "- The **distribution of admission fees is close to normal with outliers on both sides**. Few patients are paying a high amount of admission fees and few patients are paying a low amount of admission fees."
   ]
  },
  {
   "cell_type": "markdown",
   "metadata": {
    "id": "dnawqWwiDGAN"
   },
   "source": [
    "#### **Visitors with Patients**"
   ]
  },
  {
   "cell_type": "code",
   "execution_count": 112,
   "metadata": {
    "id": "zaFuytims4mK"
   },
   "outputs": [
    {
     "data": {
      "image/png": "[encoded data removed]",
      "text/plain": [
       "<Figure size 864x504 with 2 Axes>"
      ]
     },
     "metadata": {
      "needs_background": "light"
     },
     "output_type": "display_data"
    }
   ],
   "source": [
    "histogram_boxplot(data, \"Visitors with Patient\", kde = True, bins = 30)"
   ]
  },
  {
   "cell_type": "markdown",
   "metadata": {
    "id": "YDwBBE2eDOxo"
   },
   "source": [
    "**Observations:**\n",
    "\n",
    "- The distribution of the number of visitors with the patient is **highly skewed towards the right**.\n",
    "- **2 and 4 are the most common number of visitors with patients.**"
   ]
  },
  {
   "cell_type": "markdown",
   "metadata": {
    "id": "n5PnzTiBuJA5"
   },
   "source": [
    "### **Bivariate Analysis**"
   ]
  },
  {
   "cell_type": "code",
   "execution_count": 113,
   "metadata": {
    "id": "ARmMlB5IO3UQ"
   },
   "outputs": [
    {
     "data": {
      "text/plain": [
       "<AxesSubplot:>"
      ]
     },
     "execution_count": 113,
     "metadata": {},
     "output_type": "execute_result"
    },
    {
     "data": {
      "image/png": "[encoded data removed]",
      "text/plain": [
       "<Figure size 1080x504 with 2 Axes>"
      ]
     },
     "metadata": {
      "needs_background": "light"
     },
     "output_type": "display_data"
    }
   ],
   "source": [
    "# Finding the correlation between various columns of the dataset\n",
    "plt.figure(figsize = (15,7))\n",
    "sns.heatmap(data.corr(), annot = True, vmin = -1, vmax = 1, fmt = \".2f\", cmap = \"Spectral\")"
   ]
  },
  {
   "cell_type": "markdown",
   "metadata": {
    "id": "VXjMP0xgPHoW"
   },
   "source": [
    "**Observations:** \n",
    "- The heatmap shows that there is **no correlation between variables**.\n",
    "- The continuous variables show no correlation with the target variable (Stay (in days)), which indicates that the **categorical variables might be more important for the prediction.**"
   ]
  },
  {
   "cell_type": "code",
   "execution_count": 114,
   "metadata": {
    "id": "TbM2637QiV0D"
   },
   "outputs": [],
   "source": [
    "# Function to plot stacked bar plots\n",
    "\n",
    "def stacked_barplot(data, predictor, target):\n",
    "    \"\"\"\n",
    "    Print the category counts and plot a stacked bar chart\n",
    "\n",
    "    data: dataframe\n",
    "    predictor: independent variable\n",
    "    target: target variable\n",
    "    \"\"\"\n",
    "    count = data[predictor].nunique()\n",
    "    sorter = data[target].value_counts().index[-1]\n",
    "    tab1 = pd.crosstab(data[predictor], data[target], margins = True).sort_values(\n",
    "        by = sorter, ascending = False\n",
    "    )\n",
    "    print(tab1)\n",
    "    print(\"-\" * 120)\n",
    "    tab = pd.crosstab(data[predictor], data[target], normalize = \"index\").sort_values(\n",
    "        by = sorter, ascending = False\n",
    "    )\n",
    "    tab.plot(kind = \"bar\", stacked = True, figsize = (count + 1, 5))\n",
    "    plt.legend(\n",
    "        loc = \"lower left\",\n",
    "        frameon = False,\n",
    "    )\n",
    "    plt.legend(loc = \"upper left\", bbox_to_anchor = (1, 1))\n",
    "    plt.show()"
   ]
  },
  {
   "cell_type": "markdown",
   "metadata": {
    "id": "_7g781gtwOV2"
   },
   "source": [
    "**Let's start by checking the distribution of the LOS for the various wards**"
   ]
  },
  {
   "cell_type": "code",
   "execution_count": 115,
   "metadata": {
    "id": "z3C3qUsTlIpK"
   },
   "outputs": [
    {
     "data": {
      "image/png": "[encoded data removed]",
      "text/plain": [
       "<Figure size 432x288 with 1 Axes>"
      ]
     },
     "metadata": {
      "needs_background": "light"
     },
     "output_type": "display_data"
    }
   ],
   "source": [
    "sns.barplot(y = 'Ward_Facility_Code', x = 'Stay (in days)', data = data)\n",
    "plt.show()"
   ]
  },
  {
   "cell_type": "markdown",
   "metadata": {
    "id": "2ScD8h0FHRxX"
   },
   "source": [
    "**Observation:**\n",
    "\n",
    "- The hypothesis we made earlier is correct, i.e., **wards A and C has the patients staying for the longest duration, which implies these wards might be for patients with serious illnesses.**"
   ]
  },
  {
   "cell_type": "code",
   "execution_count": 116,
   "metadata": {
    "id": "UH3lFpuU4I6B"
   },
   "outputs": [
    {
     "name": "stdout",
     "output_type": "stream",
     "text": [
      "Department          TB & Chest disease  anesthesia  gynecology  radiotherapy  \\\n",
      "Ward_Facility_Code                                                             \n",
      "A                                 4709       15611           0         21093   \n",
      "All                              22890       44179      343478         84315   \n",
      "B                                    0           0      103885             0   \n",
      "C                                 1319        4199           0          9079   \n",
      "D                                    0           0      119055             0   \n",
      "E                                16862       24369           0         54143   \n",
      "F                                    0           0      120538             0   \n",
      "\n",
      "Department          surgery     All  \n",
      "Ward_Facility_Code                   \n",
      "A                      5138   46551  \n",
      "All                    5138  500000  \n",
      "B                         0  103885  \n",
      "C                         0   14597  \n",
      "D                         0  119055  \n",
      "E                         0   95374  \n",
      "F                         0  120538  \n",
      "------------------------------------------------------------------------------------------------------------------------\n"
     ]
    },
    {
     "data": {
      "image/png": "[encoded data removed]",
      "text/plain": [
       "<Figure size 504x360 with 1 Axes>"
      ]
     },
     "metadata": {
      "needs_background": "light"
     },
     "output_type": "display_data"
    }
   ],
   "source": [
    "stacked_barplot(data, \"Ward_Facility_Code\", \"Department\")"
   ]
  },
  {
   "cell_type": "markdown",
   "metadata": {
    "id": "26J9ZLFC4WO7"
   },
   "source": [
    "**Observations:**\n",
    "\n",
    "- **Ward Facility B, D, and F are dedicated only to the gynecology department.**\n",
    "- Wards A, C, and E have patients with all other diseases, and **patients undergoing surgery are admitted to ward A only.**"
   ]
  },
  {
   "cell_type": "markdown",
   "metadata": {
    "id": "So2J-eKbxLXE"
   },
   "source": [
    "**Usually, the more severe the illness, the more the LOS, let's check the distribution of severe patients in various wards.**"
   ]
  },
  {
   "cell_type": "code",
   "execution_count": 117,
   "metadata": {
    "id": "W-_Kr-34iXUp"
   },
   "outputs": [
    {
     "name": "stdout",
     "output_type": "stream",
     "text": [
      "Severity of Illness  Extreme   Minor  Moderate     All\n",
      "Ward_Facility_Code                                    \n",
      "All                    88266  131537    280197  500000\n",
      "D                      29549   27220     62286  119055\n",
      "B                      24222   23579     56084  103885\n",
      "A                      13662    7877     25012   46551\n",
      "E                      11488   22254     61632   95374\n",
      "F                       5842   47594     67102  120538\n",
      "C                       3503    3013      8081   14597\n",
      "------------------------------------------------------------------------------------------------------------------------\n"
     ]
    },
    {
     "data": {
      "image/png": "[encoded data removed]",
      "text/plain": [
       "<Figure size 504x360 with 1 Axes>"
      ]
     },
     "metadata": {
      "needs_background": "light"
     },
     "output_type": "display_data"
    }
   ],
   "source": [
    "stacked_barplot(data, \"Ward_Facility_Code\", \"Severity of Illness\")"
   ]
  },
  {
   "cell_type": "markdown",
   "metadata": {
    "id": "KiDH49bWIAJF"
   },
   "source": [
    "**Observations:**\n",
    "\n",
    "- **Ward A has the highest number of extreme cases.** We observed earlier that ward A has the longest length of stay in the hospital as well. It might require more staff and resources as compared to other wards.\n",
    "- **Ward F has the highest number of minor cases and Ward E has the highest number of moderate cases.**"
   ]
  },
  {
   "cell_type": "markdown",
   "metadata": {
    "id": "k4pmLBDiyJ4c"
   },
   "source": [
    "**Age can also be an important factor to find the length of stay. Let's check the same.**"
   ]
  },
  {
   "cell_type": "code",
   "execution_count": 118,
   "metadata": {
    "id": "FmSuZ_18n7Ch"
   },
   "outputs": [
    {
     "data": {
      "image/png": "[encoded data removed]",
      "text/plain": [
       "<Figure size 432x288 with 1 Axes>"
      ]
     },
     "metadata": {
      "needs_background": "light"
     },
     "output_type": "display_data"
    }
   ],
   "source": [
    "sns.barplot(y = 'Age', x = 'Stay (in days)', data = data)\n",
    "plt.show()"
   ]
  },
  {
   "cell_type": "markdown",
   "metadata": {
    "id": "SsYpNHK2It36"
   },
   "source": [
    "**Observation:**\n",
    "\n",
    "- **Patients aged between 1-10 and 51-100 tend to stay the most number of days in the hospital.** This might be because the majority of the patients between the 21-50 age group get admitted to the gynecology department and patients in age groups 1-10 and 5-100 might get admitted due to some serious illness."
   ]
  },
  {
   "cell_type": "markdown",
   "metadata": {},
   "source": [
    "**Let's look at the doctors, their department names, and the total number of patients they have treated.**"
   ]
  },
  {
   "cell_type": "code",
   "execution_count": 12,
   "metadata": {},
   "outputs": [
    {
     "data": {
      "text/html": [
       "<div>\n",
       "<style scoped>\n",
       "    .dataframe tbody tr th:only-of-type {\n",
       "        vertical-align: middle;\n",
       "    }\n",
       "\n",
       "    .dataframe tbody tr th {\n",
       "        vertical-align: top;\n",
       "    }\n",
       "\n",
       "    .dataframe thead th {\n",
       "        text-align: right;\n",
       "    }\n",
       "</style>\n",
       "<table border=\"1\" class=\"dataframe\">\n",
       "  <thead>\n",
       "    <tr style=\"text-align: right;\">\n",
       "      <th></th>\n",
       "      <th>Department_Name</th>\n",
       "      <th>Patients_Treated</th>\n",
       "    </tr>\n",
       "    <tr>\n",
       "      <th>doctor_name</th>\n",
       "      <th></th>\n",
       "      <th></th>\n",
       "    </tr>\n",
       "  </thead>\n",
       "  <tbody>\n",
       "    <tr>\n",
       "      <th>Dr Isaac</th>\n",
       "      <td>[surgery]</td>\n",
       "      <td>3359</td>\n",
       "    </tr>\n",
       "    <tr>\n",
       "      <th>Dr John</th>\n",
       "      <td>[TB &amp; Chest disease, anesthesia, radiotherapy]</td>\n",
       "      <td>51263</td>\n",
       "    </tr>\n",
       "    <tr>\n",
       "      <th>Dr Mark</th>\n",
       "      <td>[anesthesia, TB &amp; Chest disease]</td>\n",
       "      <td>44410</td>\n",
       "    </tr>\n",
       "    <tr>\n",
       "      <th>Dr Nathan</th>\n",
       "      <td>[gynecology]</td>\n",
       "      <td>70777</td>\n",
       "    </tr>\n",
       "    <tr>\n",
       "      <th>Dr Olivia</th>\n",
       "      <td>[gynecology]</td>\n",
       "      <td>98352</td>\n",
       "    </tr>\n",
       "    <tr>\n",
       "      <th>Dr Sam</th>\n",
       "      <td>[radiotherapy]</td>\n",
       "      <td>55711</td>\n",
       "    </tr>\n",
       "    <tr>\n",
       "      <th>Dr Sarah</th>\n",
       "      <td>[gynecology]</td>\n",
       "      <td>99596</td>\n",
       "    </tr>\n",
       "    <tr>\n",
       "      <th>Dr Simon</th>\n",
       "      <td>[surgery]</td>\n",
       "      <td>1779</td>\n",
       "    </tr>\n",
       "    <tr>\n",
       "      <th>Dr Sophia</th>\n",
       "      <td>[gynecology]</td>\n",
       "      <td>74753</td>\n",
       "    </tr>\n",
       "  </tbody>\n",
       "</table>\n",
       "</div>"
      ],
      "text/plain": [
       "                                            Department_Name  Patients_Treated\n",
       "doctor_name                                                                  \n",
       "Dr Isaac                                          [surgery]              3359\n",
       "Dr John      [TB & Chest disease, anesthesia, radiotherapy]             51263\n",
       "Dr Mark                    [anesthesia, TB & Chest disease]             44410\n",
       "Dr Nathan                                      [gynecology]             70777\n",
       "Dr Olivia                                      [gynecology]             98352\n",
       "Dr Sam                                       [radiotherapy]             55711\n",
       "Dr Sarah                                       [gynecology]             99596\n",
       "Dr Simon                                          [surgery]              1779\n",
       "Dr Sophia                                      [gynecology]             74753"
      ]
     },
     "execution_count": 12,
     "metadata": {},
     "output_type": "execute_result"
    }
   ],
   "source": [
    "data.groupby(['doctor_name'])['Department'].agg(Department_Name='unique',Patients_Treated='count')"
   ]
  },
  {
   "cell_type": "markdown",
   "metadata": {},
   "source": [
    "**Observations:**\n",
    "\n",
    "- The hospital employs a total of 9 doctors. Four of the doctors work in the department of gynecology, which sees the most patients.\n",
    "- The majority of patients that attended the hospital were treated by Dr. Sarah and Olivia.\n",
    "- Two doctors are working in the surgical department (Dr. Isaac and Dr. Simon), while Dr. Sam works in the radiotherapy department.\n",
    "- The only two doctors who work in several departments are Dr. John and Dr. Mark."
   ]
  },
  {
   "cell_type": "markdown",
   "metadata": {
    "id": "fTjAF7lA2A9v"
   },
   "source": [
    "## **Data Preparation for Model Building**\n",
    "\n",
    "- Before we proceed to build a model, we'll have to encode categorical features.\n",
    "- Separate the independent variables and dependent Variables.\n",
    "- We'll split the data into train and test to be able to evaluate the model that we train on the training data."
   ]
  },
  {
   "cell_type": "code",
   "execution_count": 14,
   "metadata": {
    "id": "R9sae8pN9cGT"
   },
   "outputs": [],
   "source": [
    "# Creating dummy variables for the categorical columns\n",
    "# drop_first=True is used to avoid redundant variables\n",
    "data = pd.get_dummies(\n",
    "    data,\n",
    "    columns = data.select_dtypes(include = [\"object\", \"category\"]).columns.tolist(),\n",
    "    drop_first = True,\n",
    ")"
   ]
  },
  {
   "cell_type": "code",
   "execution_count": 15,
   "metadata": {
    "id": "Ri-VtxAj9fdT"
   },
   "outputs": [
    {
     "data": {
      "text/html": [
       "<div>\n",
       "<style scoped>\n",
       "    .dataframe tbody tr th:only-of-type {\n",
       "        vertical-align: middle;\n",
       "    }\n",
       "\n",
       "    .dataframe tbody tr th {\n",
       "        vertical-align: top;\n",
       "    }\n",
       "\n",
       "    .dataframe thead th {\n",
       "        text-align: right;\n",
       "    }\n",
       "</style>\n",
       "<table border=\"1\" class=\"dataframe\">\n",
       "  <thead>\n",
       "    <tr style=\"text-align: right;\">\n",
       "      <th></th>\n",
       "      <th>Available Extra Rooms in Hospital</th>\n",
       "      <th>staff_available</th>\n",
       "      <th>Visitors with Patient</th>\n",
       "      <th>Admission_Deposit</th>\n",
       "      <th>Stay (in days)</th>\n",
       "      <th>Department_anesthesia</th>\n",
       "      <th>Department_gynecology</th>\n",
       "      <th>Department_radiotherapy</th>\n",
       "      <th>Department_surgery</th>\n",
       "      <th>Ward_Facility_Code_B</th>\n",
       "      <th>Ward_Facility_Code_C</th>\n",
       "      <th>Ward_Facility_Code_D</th>\n",
       "      <th>Ward_Facility_Code_E</th>\n",
       "      <th>Ward_Facility_Code_F</th>\n",
       "      <th>doctor_name_Dr John</th>\n",
       "      <th>doctor_name_Dr Mark</th>\n",
       "      <th>doctor_name_Dr Nathan</th>\n",
       "      <th>doctor_name_Dr Olivia</th>\n",
       "      <th>doctor_name_Dr Sam</th>\n",
       "      <th>doctor_name_Dr Sarah</th>\n",
       "      <th>doctor_name_Dr Simon</th>\n",
       "      <th>doctor_name_Dr Sophia</th>\n",
       "      <th>Age_11-20</th>\n",
       "      <th>Age_21-30</th>\n",
       "      <th>Age_31-40</th>\n",
       "      <th>Age_41-50</th>\n",
       "      <th>Age_51-60</th>\n",
       "      <th>Age_61-70</th>\n",
       "      <th>Age_71-80</th>\n",
       "      <th>Age_81-90</th>\n",
       "      <th>Age_91-100</th>\n",
       "      <th>gender_Male</th>\n",
       "      <th>gender_Other</th>\n",
       "      <th>Type of Admission_Trauma</th>\n",
       "      <th>Type of Admission_Urgent</th>\n",
       "      <th>Severity of Illness_Minor</th>\n",
       "      <th>Severity of Illness_Moderate</th>\n",
       "      <th>health_conditions_Diabetes</th>\n",
       "      <th>health_conditions_Heart disease</th>\n",
       "      <th>health_conditions_High Blood Pressure</th>\n",
       "      <th>health_conditions_None</th>\n",
       "      <th>health_conditions_Other</th>\n",
       "      <th>Insurance_Yes</th>\n",
       "    </tr>\n",
       "  </thead>\n",
       "  <tbody>\n",
       "    <tr>\n",
       "      <th>0</th>\n",
       "      <td>4</td>\n",
       "      <td>0</td>\n",
       "      <td>4</td>\n",
       "      <td>2966.408696</td>\n",
       "      <td>8</td>\n",
       "      <td>0</td>\n",
       "      <td>1</td>\n",
       "      <td>0</td>\n",
       "      <td>0</td>\n",
       "      <td>0</td>\n",
       "      <td>0</td>\n",
       "      <td>1</td>\n",
       "      <td>0</td>\n",
       "      <td>0</td>\n",
       "      <td>0</td>\n",
       "      <td>0</td>\n",
       "      <td>0</td>\n",
       "      <td>0</td>\n",
       "      <td>0</td>\n",
       "      <td>0</td>\n",
       "      <td>0</td>\n",
       "      <td>1</td>\n",
       "      <td>0</td>\n",
       "      <td>0</td>\n",
       "      <td>0</td>\n",
       "      <td>1</td>\n",
       "      <td>0</td>\n",
       "      <td>0</td>\n",
       "      <td>0</td>\n",
       "      <td>0</td>\n",
       "      <td>0</td>\n",
       "      <td>0</td>\n",
       "      <td>0</td>\n",
       "      <td>1</td>\n",
       "      <td>0</td>\n",
       "      <td>0</td>\n",
       "      <td>0</td>\n",
       "      <td>1</td>\n",
       "      <td>0</td>\n",
       "      <td>0</td>\n",
       "      <td>0</td>\n",
       "      <td>0</td>\n",
       "      <td>1</td>\n",
       "    </tr>\n",
       "    <tr>\n",
       "      <th>1</th>\n",
       "      <td>4</td>\n",
       "      <td>2</td>\n",
       "      <td>2</td>\n",
       "      <td>3554.835677</td>\n",
       "      <td>9</td>\n",
       "      <td>0</td>\n",
       "      <td>1</td>\n",
       "      <td>0</td>\n",
       "      <td>0</td>\n",
       "      <td>1</td>\n",
       "      <td>0</td>\n",
       "      <td>0</td>\n",
       "      <td>0</td>\n",
       "      <td>0</td>\n",
       "      <td>0</td>\n",
       "      <td>0</td>\n",
       "      <td>0</td>\n",
       "      <td>0</td>\n",
       "      <td>0</td>\n",
       "      <td>0</td>\n",
       "      <td>0</td>\n",
       "      <td>1</td>\n",
       "      <td>0</td>\n",
       "      <td>0</td>\n",
       "      <td>1</td>\n",
       "      <td>0</td>\n",
       "      <td>0</td>\n",
       "      <td>0</td>\n",
       "      <td>0</td>\n",
       "      <td>0</td>\n",
       "      <td>0</td>\n",
       "      <td>0</td>\n",
       "      <td>0</td>\n",
       "      <td>1</td>\n",
       "      <td>0</td>\n",
       "      <td>1</td>\n",
       "      <td>0</td>\n",
       "      <td>0</td>\n",
       "      <td>1</td>\n",
       "      <td>0</td>\n",
       "      <td>0</td>\n",
       "      <td>0</td>\n",
       "      <td>0</td>\n",
       "    </tr>\n",
       "    <tr>\n",
       "      <th>2</th>\n",
       "      <td>2</td>\n",
       "      <td>8</td>\n",
       "      <td>2</td>\n",
       "      <td>5624.733654</td>\n",
       "      <td>7</td>\n",
       "      <td>0</td>\n",
       "      <td>1</td>\n",
       "      <td>0</td>\n",
       "      <td>0</td>\n",
       "      <td>1</td>\n",
       "      <td>0</td>\n",
       "      <td>0</td>\n",
       "      <td>0</td>\n",
       "      <td>0</td>\n",
       "      <td>0</td>\n",
       "      <td>0</td>\n",
       "      <td>0</td>\n",
       "      <td>0</td>\n",
       "      <td>0</td>\n",
       "      <td>0</td>\n",
       "      <td>0</td>\n",
       "      <td>1</td>\n",
       "      <td>0</td>\n",
       "      <td>1</td>\n",
       "      <td>0</td>\n",
       "      <td>0</td>\n",
       "      <td>0</td>\n",
       "      <td>0</td>\n",
       "      <td>0</td>\n",
       "      <td>0</td>\n",
       "      <td>0</td>\n",
       "      <td>0</td>\n",
       "      <td>0</td>\n",
       "      <td>1</td>\n",
       "      <td>0</td>\n",
       "      <td>0</td>\n",
       "      <td>0</td>\n",
       "      <td>1</td>\n",
       "      <td>0</td>\n",
       "      <td>0</td>\n",
       "      <td>0</td>\n",
       "      <td>0</td>\n",
       "      <td>1</td>\n",
       "    </tr>\n",
       "    <tr>\n",
       "      <th>3</th>\n",
       "      <td>4</td>\n",
       "      <td>7</td>\n",
       "      <td>4</td>\n",
       "      <td>4814.149231</td>\n",
       "      <td>8</td>\n",
       "      <td>0</td>\n",
       "      <td>1</td>\n",
       "      <td>0</td>\n",
       "      <td>0</td>\n",
       "      <td>0</td>\n",
       "      <td>0</td>\n",
       "      <td>1</td>\n",
       "      <td>0</td>\n",
       "      <td>0</td>\n",
       "      <td>0</td>\n",
       "      <td>0</td>\n",
       "      <td>0</td>\n",
       "      <td>1</td>\n",
       "      <td>0</td>\n",
       "      <td>0</td>\n",
       "      <td>0</td>\n",
       "      <td>0</td>\n",
       "      <td>0</td>\n",
       "      <td>0</td>\n",
       "      <td>1</td>\n",
       "      <td>0</td>\n",
       "      <td>0</td>\n",
       "      <td>0</td>\n",
       "      <td>0</td>\n",
       "      <td>0</td>\n",
       "      <td>0</td>\n",
       "      <td>0</td>\n",
       "      <td>0</td>\n",
       "      <td>0</td>\n",
       "      <td>1</td>\n",
       "      <td>0</td>\n",
       "      <td>1</td>\n",
       "      <td>0</td>\n",
       "      <td>0</td>\n",
       "      <td>0</td>\n",
       "      <td>1</td>\n",
       "      <td>0</td>\n",
       "      <td>0</td>\n",
       "    </tr>\n",
       "    <tr>\n",
       "      <th>4</th>\n",
       "      <td>2</td>\n",
       "      <td>10</td>\n",
       "      <td>2</td>\n",
       "      <td>5169.269637</td>\n",
       "      <td>34</td>\n",
       "      <td>1</td>\n",
       "      <td>0</td>\n",
       "      <td>0</td>\n",
       "      <td>0</td>\n",
       "      <td>0</td>\n",
       "      <td>0</td>\n",
       "      <td>0</td>\n",
       "      <td>1</td>\n",
       "      <td>0</td>\n",
       "      <td>0</td>\n",
       "      <td>1</td>\n",
       "      <td>0</td>\n",
       "      <td>0</td>\n",
       "      <td>0</td>\n",
       "      <td>0</td>\n",
       "      <td>0</td>\n",
       "      <td>0</td>\n",
       "      <td>0</td>\n",
       "      <td>0</td>\n",
       "      <td>0</td>\n",
       "      <td>0</td>\n",
       "      <td>0</td>\n",
       "      <td>0</td>\n",
       "      <td>1</td>\n",
       "      <td>0</td>\n",
       "      <td>0</td>\n",
       "      <td>1</td>\n",
       "      <td>0</td>\n",
       "      <td>1</td>\n",
       "      <td>0</td>\n",
       "      <td>0</td>\n",
       "      <td>1</td>\n",
       "      <td>1</td>\n",
       "      <td>0</td>\n",
       "      <td>0</td>\n",
       "      <td>0</td>\n",
       "      <td>0</td>\n",
       "      <td>0</td>\n",
       "    </tr>\n",
       "    <tr>\n",
       "      <th>...</th>\n",
       "      <td>...</td>\n",
       "      <td>...</td>\n",
       "      <td>...</td>\n",
       "      <td>...</td>\n",
       "      <td>...</td>\n",
       "      <td>...</td>\n",
       "      <td>...</td>\n",
       "      <td>...</td>\n",
       "      <td>...</td>\n",
       "      <td>...</td>\n",
       "      <td>...</td>\n",
       "      <td>...</td>\n",
       "      <td>...</td>\n",
       "      <td>...</td>\n",
       "      <td>...</td>\n",
       "      <td>...</td>\n",
       "      <td>...</td>\n",
       "      <td>...</td>\n",
       "      <td>...</td>\n",
       "      <td>...</td>\n",
       "      <td>...</td>\n",
       "      <td>...</td>\n",
       "      <td>...</td>\n",
       "      <td>...</td>\n",
       "      <td>...</td>\n",
       "      <td>...</td>\n",
       "      <td>...</td>\n",
       "      <td>...</td>\n",
       "      <td>...</td>\n",
       "      <td>...</td>\n",
       "      <td>...</td>\n",
       "      <td>...</td>\n",
       "      <td>...</td>\n",
       "      <td>...</td>\n",
       "      <td>...</td>\n",
       "      <td>...</td>\n",
       "      <td>...</td>\n",
       "      <td>...</td>\n",
       "      <td>...</td>\n",
       "      <td>...</td>\n",
       "      <td>...</td>\n",
       "      <td>...</td>\n",
       "      <td>...</td>\n",
       "    </tr>\n",
       "    <tr>\n",
       "      <th>499995</th>\n",
       "      <td>4</td>\n",
       "      <td>2</td>\n",
       "      <td>3</td>\n",
       "      <td>4105.795901</td>\n",
       "      <td>10</td>\n",
       "      <td>0</td>\n",
       "      <td>1</td>\n",
       "      <td>0</td>\n",
       "      <td>0</td>\n",
       "      <td>0</td>\n",
       "      <td>0</td>\n",
       "      <td>0</td>\n",
       "      <td>0</td>\n",
       "      <td>1</td>\n",
       "      <td>0</td>\n",
       "      <td>0</td>\n",
       "      <td>0</td>\n",
       "      <td>0</td>\n",
       "      <td>0</td>\n",
       "      <td>1</td>\n",
       "      <td>0</td>\n",
       "      <td>0</td>\n",
       "      <td>1</td>\n",
       "      <td>0</td>\n",
       "      <td>0</td>\n",
       "      <td>0</td>\n",
       "      <td>0</td>\n",
       "      <td>0</td>\n",
       "      <td>0</td>\n",
       "      <td>0</td>\n",
       "      <td>0</td>\n",
       "      <td>0</td>\n",
       "      <td>0</td>\n",
       "      <td>1</td>\n",
       "      <td>0</td>\n",
       "      <td>1</td>\n",
       "      <td>0</td>\n",
       "      <td>0</td>\n",
       "      <td>0</td>\n",
       "      <td>1</td>\n",
       "      <td>0</td>\n",
       "      <td>0</td>\n",
       "      <td>0</td>\n",
       "    </tr>\n",
       "    <tr>\n",
       "      <th>499996</th>\n",
       "      <td>13</td>\n",
       "      <td>8</td>\n",
       "      <td>2</td>\n",
       "      <td>4631.550257</td>\n",
       "      <td>11</td>\n",
       "      <td>0</td>\n",
       "      <td>1</td>\n",
       "      <td>0</td>\n",
       "      <td>0</td>\n",
       "      <td>0</td>\n",
       "      <td>0</td>\n",
       "      <td>0</td>\n",
       "      <td>0</td>\n",
       "      <td>1</td>\n",
       "      <td>0</td>\n",
       "      <td>0</td>\n",
       "      <td>0</td>\n",
       "      <td>1</td>\n",
       "      <td>0</td>\n",
       "      <td>0</td>\n",
       "      <td>0</td>\n",
       "      <td>0</td>\n",
       "      <td>0</td>\n",
       "      <td>0</td>\n",
       "      <td>1</td>\n",
       "      <td>0</td>\n",
       "      <td>0</td>\n",
       "      <td>0</td>\n",
       "      <td>0</td>\n",
       "      <td>0</td>\n",
       "      <td>0</td>\n",
       "      <td>0</td>\n",
       "      <td>0</td>\n",
       "      <td>0</td>\n",
       "      <td>0</td>\n",
       "      <td>0</td>\n",
       "      <td>1</td>\n",
       "      <td>0</td>\n",
       "      <td>0</td>\n",
       "      <td>0</td>\n",
       "      <td>0</td>\n",
       "      <td>1</td>\n",
       "      <td>0</td>\n",
       "    </tr>\n",
       "    <tr>\n",
       "      <th>499997</th>\n",
       "      <td>2</td>\n",
       "      <td>3</td>\n",
       "      <td>2</td>\n",
       "      <td>5456.930075</td>\n",
       "      <td>8</td>\n",
       "      <td>0</td>\n",
       "      <td>1</td>\n",
       "      <td>0</td>\n",
       "      <td>0</td>\n",
       "      <td>1</td>\n",
       "      <td>0</td>\n",
       "      <td>0</td>\n",
       "      <td>0</td>\n",
       "      <td>0</td>\n",
       "      <td>0</td>\n",
       "      <td>0</td>\n",
       "      <td>0</td>\n",
       "      <td>0</td>\n",
       "      <td>0</td>\n",
       "      <td>1</td>\n",
       "      <td>0</td>\n",
       "      <td>0</td>\n",
       "      <td>1</td>\n",
       "      <td>0</td>\n",
       "      <td>0</td>\n",
       "      <td>0</td>\n",
       "      <td>0</td>\n",
       "      <td>0</td>\n",
       "      <td>0</td>\n",
       "      <td>0</td>\n",
       "      <td>0</td>\n",
       "      <td>0</td>\n",
       "      <td>0</td>\n",
       "      <td>0</td>\n",
       "      <td>0</td>\n",
       "      <td>0</td>\n",
       "      <td>1</td>\n",
       "      <td>0</td>\n",
       "      <td>0</td>\n",
       "      <td>1</td>\n",
       "      <td>0</td>\n",
       "      <td>0</td>\n",
       "      <td>0</td>\n",
       "    </tr>\n",
       "    <tr>\n",
       "      <th>499998</th>\n",
       "      <td>2</td>\n",
       "      <td>1</td>\n",
       "      <td>2</td>\n",
       "      <td>4694.127772</td>\n",
       "      <td>23</td>\n",
       "      <td>0</td>\n",
       "      <td>0</td>\n",
       "      <td>1</td>\n",
       "      <td>0</td>\n",
       "      <td>0</td>\n",
       "      <td>0</td>\n",
       "      <td>0</td>\n",
       "      <td>0</td>\n",
       "      <td>0</td>\n",
       "      <td>1</td>\n",
       "      <td>0</td>\n",
       "      <td>0</td>\n",
       "      <td>0</td>\n",
       "      <td>0</td>\n",
       "      <td>0</td>\n",
       "      <td>0</td>\n",
       "      <td>0</td>\n",
       "      <td>0</td>\n",
       "      <td>0</td>\n",
       "      <td>0</td>\n",
       "      <td>0</td>\n",
       "      <td>0</td>\n",
       "      <td>1</td>\n",
       "      <td>0</td>\n",
       "      <td>0</td>\n",
       "      <td>0</td>\n",
       "      <td>0</td>\n",
       "      <td>0</td>\n",
       "      <td>1</td>\n",
       "      <td>0</td>\n",
       "      <td>0</td>\n",
       "      <td>0</td>\n",
       "      <td>1</td>\n",
       "      <td>0</td>\n",
       "      <td>0</td>\n",
       "      <td>0</td>\n",
       "      <td>0</td>\n",
       "      <td>0</td>\n",
       "    </tr>\n",
       "    <tr>\n",
       "      <th>499999</th>\n",
       "      <td>3</td>\n",
       "      <td>3</td>\n",
       "      <td>4</td>\n",
       "      <td>4713.868519</td>\n",
       "      <td>10</td>\n",
       "      <td>0</td>\n",
       "      <td>1</td>\n",
       "      <td>0</td>\n",
       "      <td>0</td>\n",
       "      <td>0</td>\n",
       "      <td>0</td>\n",
       "      <td>0</td>\n",
       "      <td>0</td>\n",
       "      <td>1</td>\n",
       "      <td>0</td>\n",
       "      <td>0</td>\n",
       "      <td>0</td>\n",
       "      <td>0</td>\n",
       "      <td>0</td>\n",
       "      <td>0</td>\n",
       "      <td>0</td>\n",
       "      <td>1</td>\n",
       "      <td>0</td>\n",
       "      <td>0</td>\n",
       "      <td>0</td>\n",
       "      <td>1</td>\n",
       "      <td>0</td>\n",
       "      <td>0</td>\n",
       "      <td>0</td>\n",
       "      <td>0</td>\n",
       "      <td>0</td>\n",
       "      <td>0</td>\n",
       "      <td>0</td>\n",
       "      <td>1</td>\n",
       "      <td>0</td>\n",
       "      <td>0</td>\n",
       "      <td>1</td>\n",
       "      <td>0</td>\n",
       "      <td>1</td>\n",
       "      <td>0</td>\n",
       "      <td>0</td>\n",
       "      <td>0</td>\n",
       "      <td>1</td>\n",
       "    </tr>\n",
       "  </tbody>\n",
       "</table>\n",
       "<p>500000 rows × 43 columns</p>\n",
       "</div>"
      ],
      "text/plain": [
       "        Available Extra Rooms in Hospital  staff_available  \\\n",
       "0                                       4                0   \n",
       "1                                       4                2   \n",
       "2                                       2                8   \n",
       "3                                       4                7   \n",
       "4                                       2               10   \n",
       "...                                   ...              ...   \n",
       "499995                                  4                2   \n",
       "499996                                 13                8   \n",
       "499997                                  2                3   \n",
       "499998                                  2                1   \n",
       "499999                                  3                3   \n",
       "\n",
       "        Visitors with Patient  Admission_Deposit  Stay (in days)  \\\n",
       "0                           4        2966.408696               8   \n",
       "1                           2        3554.835677               9   \n",
       "2                           2        5624.733654               7   \n",
       "3                           4        4814.149231               8   \n",
       "4                           2        5169.269637              34   \n",
       "...                       ...                ...             ...   \n",
       "499995                      3        4105.795901              10   \n",
       "499996                      2        4631.550257              11   \n",
       "499997                      2        5456.930075               8   \n",
       "499998                      2        4694.127772              23   \n",
       "499999                      4        4713.868519              10   \n",
       "\n",
       "        Department_anesthesia  Department_gynecology  Department_radiotherapy  \\\n",
       "0                           0                      1                        0   \n",
       "1                           0                      1                        0   \n",
       "2                           0                      1                        0   \n",
       "3                           0                      1                        0   \n",
       "4                           1                      0                        0   \n",
       "...                       ...                    ...                      ...   \n",
       "499995                      0                      1                        0   \n",
       "499996                      0                      1                        0   \n",
       "499997                      0                      1                        0   \n",
       "499998                      0                      0                        1   \n",
       "499999                      0                      1                        0   \n",
       "\n",
       "        Department_surgery  Ward_Facility_Code_B  Ward_Facility_Code_C  \\\n",
       "0                        0                     0                     0   \n",
       "1                        0                     1                     0   \n",
       "2                        0                     1                     0   \n",
       "3                        0                     0                     0   \n",
       "4                        0                     0                     0   \n",
       "...                    ...                   ...                   ...   \n",
       "499995                   0                     0                     0   \n",
       "499996                   0                     0                     0   \n",
       "499997                   0                     1                     0   \n",
       "499998                   0                     0                     0   \n",
       "499999                   0                     0                     0   \n",
       "\n",
       "        Ward_Facility_Code_D  Ward_Facility_Code_E  Ward_Facility_Code_F  \\\n",
       "0                          1                     0                     0   \n",
       "1                          0                     0                     0   \n",
       "2                          0                     0                     0   \n",
       "3                          1                     0                     0   \n",
       "4                          0                     1                     0   \n",
       "...                      ...                   ...                   ...   \n",
       "499995                     0                     0                     1   \n",
       "499996                     0                     0                     1   \n",
       "499997                     0                     0                     0   \n",
       "499998                     0                     0                     0   \n",
       "499999                     0                     0                     1   \n",
       "\n",
       "        doctor_name_Dr John  doctor_name_Dr Mark  doctor_name_Dr Nathan  \\\n",
       "0                         0                    0                      0   \n",
       "1                         0                    0                      0   \n",
       "2                         0                    0                      0   \n",
       "3                         0                    0                      0   \n",
       "4                         0                    1                      0   \n",
       "...                     ...                  ...                    ...   \n",
       "499995                    0                    0                      0   \n",
       "499996                    0                    0                      0   \n",
       "499997                    0                    0                      0   \n",
       "499998                    1                    0                      0   \n",
       "499999                    0                    0                      0   \n",
       "\n",
       "        doctor_name_Dr Olivia  doctor_name_Dr Sam  doctor_name_Dr Sarah  \\\n",
       "0                           0                   0                     0   \n",
       "1                           0                   0                     0   \n",
       "2                           0                   0                     0   \n",
       "3                           1                   0                     0   \n",
       "4                           0                   0                     0   \n",
       "...                       ...                 ...                   ...   \n",
       "499995                      0                   0                     1   \n",
       "499996                      1                   0                     0   \n",
       "499997                      0                   0                     1   \n",
       "499998                      0                   0                     0   \n",
       "499999                      0                   0                     0   \n",
       "\n",
       "        doctor_name_Dr Simon  doctor_name_Dr Sophia  Age_11-20  Age_21-30  \\\n",
       "0                          0                      1          0          0   \n",
       "1                          0                      1          0          0   \n",
       "2                          0                      1          0          1   \n",
       "3                          0                      0          0          0   \n",
       "4                          0                      0          0          0   \n",
       "...                      ...                    ...        ...        ...   \n",
       "499995                     0                      0          1          0   \n",
       "499996                     0                      0          0          0   \n",
       "499997                     0                      0          1          0   \n",
       "499998                     0                      0          0          0   \n",
       "499999                     0                      1          0          0   \n",
       "\n",
       "        Age_31-40  Age_41-50  Age_51-60  Age_61-70  Age_71-80  Age_81-90  \\\n",
       "0               0          1          0          0          0          0   \n",
       "1               1          0          0          0          0          0   \n",
       "2               0          0          0          0          0          0   \n",
       "3               1          0          0          0          0          0   \n",
       "4               0          0          0          0          1          0   \n",
       "...           ...        ...        ...        ...        ...        ...   \n",
       "499995          0          0          0          0          0          0   \n",
       "499996          1          0          0          0          0          0   \n",
       "499997          0          0          0          0          0          0   \n",
       "499998          0          0          0          1          0          0   \n",
       "499999          0          1          0          0          0          0   \n",
       "\n",
       "        Age_91-100  gender_Male  gender_Other  Type of Admission_Trauma  \\\n",
       "0                0            0             0                         1   \n",
       "1                0            0             0                         1   \n",
       "2                0            0             0                         1   \n",
       "3                0            0             0                         0   \n",
       "4                0            1             0                         1   \n",
       "...            ...          ...           ...                       ...   \n",
       "499995           0            0             0                         1   \n",
       "499996           0            0             0                         0   \n",
       "499997           0            0             0                         0   \n",
       "499998           0            0             0                         1   \n",
       "499999           0            0             0                         1   \n",
       "\n",
       "        Type of Admission_Urgent  Severity of Illness_Minor  \\\n",
       "0                              0                          0   \n",
       "1                              0                          1   \n",
       "2                              0                          0   \n",
       "3                              1                          0   \n",
       "4                              0                          0   \n",
       "...                          ...                        ...   \n",
       "499995                         0                          1   \n",
       "499996                         0                          0   \n",
       "499997                         0                          0   \n",
       "499998                         0                          0   \n",
       "499999                         0                          0   \n",
       "\n",
       "        Severity of Illness_Moderate  health_conditions_Diabetes  \\\n",
       "0                                  0                           1   \n",
       "1                                  0                           0   \n",
       "2                                  0                           1   \n",
       "3                                  1                           0   \n",
       "4                                  1                           1   \n",
       "...                              ...                         ...   \n",
       "499995                             0                           0   \n",
       "499996                             1                           0   \n",
       "499997                             1                           0   \n",
       "499998                             0                           1   \n",
       "499999                             1                           0   \n",
       "\n",
       "        health_conditions_Heart disease  \\\n",
       "0                                     0   \n",
       "1                                     1   \n",
       "2                                     0   \n",
       "3                                     0   \n",
       "4                                     0   \n",
       "...                                 ...   \n",
       "499995                                0   \n",
       "499996                                0   \n",
       "499997                                0   \n",
       "499998                                0   \n",
       "499999                                1   \n",
       "\n",
       "        health_conditions_High Blood Pressure  health_conditions_None  \\\n",
       "0                                           0                       0   \n",
       "1                                           0                       0   \n",
       "2                                           0                       0   \n",
       "3                                           0                       1   \n",
       "4                                           0                       0   \n",
       "...                                       ...                     ...   \n",
       "499995                                      1                       0   \n",
       "499996                                      0                       0   \n",
       "499997                                      1                       0   \n",
       "499998                                      0                       0   \n",
       "499999                                      0                       0   \n",
       "\n",
       "        health_conditions_Other  Insurance_Yes  \n",
       "0                             0              1  \n",
       "1                             0              0  \n",
       "2                             0              1  \n",
       "3                             0              0  \n",
       "4                             0              0  \n",
       "...                         ...            ...  \n",
       "499995                        0              0  \n",
       "499996                        1              0  \n",
       "499997                        0              0  \n",
       "499998                        0              0  \n",
       "499999                        0              1  \n",
       "\n",
       "[500000 rows x 43 columns]"
      ]
     },
     "execution_count": 15,
     "metadata": {},
     "output_type": "execute_result"
    }
   ],
   "source": [
    "# Check the data after handling categorical data\n",
    "data"
   ]
  },
  {
   "cell_type": "code",
   "execution_count": 16,
   "metadata": {},
   "outputs": [
    {
     "data": {
      "text/plain": [
       "(500000, 43)"
      ]
     },
     "execution_count": 16,
     "metadata": {},
     "output_type": "execute_result"
    }
   ],
   "source": [
    "data.shape"
   ]
  },
  {
   "cell_type": "code",
   "execution_count": 17,
   "metadata": {
    "id": "CpnezOEgjQY7"
   },
   "outputs": [],
   "source": [
    "# Separating independent variables and the target variable\n",
    "x = data.drop('Stay (in days)',axis=1)\n",
    "\n",
    "y = data['Stay (in days)'] "
   ]
  },
  {
   "cell_type": "code",
   "execution_count": 23,
   "metadata": {
    "id": "KTg4-p8-9EO7"
   },
   "outputs": [],
   "source": [
    "# Splitting the dataset into train and test datasets\n",
    "x_train, x_test, y_train, y_test = train_test_split(x, y, test_size = 0.2, shuffle = True, random_state = 1)"
   ]
  },
  {
   "cell_type": "code",
   "execution_count": 22,
   "metadata": {
    "id": "rEG6Rs2wjVrO"
   },
   "outputs": [
    {
     "name": "stdout",
     "output_type": "stream",
     "text": [
      "Shape of Training set :  (400000, 42)\n",
      "Shape of test set :  (100000, 42)\n"
     ]
    }
   ],
   "source": [
    "# Checking the shape of the train and test data\n",
    "print(\"Shape of Training set : \", x_train.shape)\n",
    "print(\"Shape of test set : \", x_test.shape)"
   ]
  },
  {
   "cell_type": "markdown",
   "metadata": {
    "id": "wwDclxhA8ply"
   },
   "source": [
    "## **Model Building**"
   ]
  },
  {
   "cell_type": "markdown",
   "metadata": {
    "id": "SH1_ef6jSVcD"
   },
   "source": [
    "* We will be using different metrics functions defined in sklearn like RMSE, MAE, 𝑅2, Adjusted 𝑅2, and MAPE for regression models evaluation. We will define a function to calculate these metric.\n",
    "* The mean absolute percentage error (MAPE) measures the accuracy of predictions as a percentage, and can be calculated as the average of absolute percentage error for all data points. The absolute percentage error is defined as predicted value minus actual values divided by actual values. It works best if there are no extreme values in the data and none of the actual values are 0."
   ]
  },
  {
   "cell_type": "code",
   "execution_count": 24,
   "metadata": {
    "id": "v4s83hAM9I8X"
   },
   "outputs": [],
   "source": [
    "# Function to compute adjusted R-squared\n",
    "def adj_r2_score(predictors, targets, predictions):\n",
    "    r2 = r2_score(targets, predictions)\n",
    "    n = predictors.shape[0]\n",
    "    k = predictors.shape[1]\n",
    "    return 1 - ((1 - r2) * (n - 1) / (n - k - 1))\n",
    "\n",
    "\n",
    "# Function to compute MAPE\n",
    "def mape_score(targets, predictions):\n",
    "    return np.mean(np.abs(targets - predictions) / targets) * 100\n",
    "\n",
    "\n",
    "# Function to compute different metrics to check performance of a regression model\n",
    "def model_performance_regression(model, predictors, target):\n",
    "    \"\"\"\n",
    "    Function to compute different metrics to check regression model performance\n",
    "\n",
    "    model: regressor\n",
    "    predictors: independent variables\n",
    "    target: dependent variable\n",
    "    \"\"\"\n",
    "\n",
    "    pred = model.predict(predictors)                  # Predict using the independent variables\n",
    "    r2 = r2_score(target, pred)                       # To compute R-squared\n",
    "    adjr2 = adj_r2_score(predictors, target, pred)    # To compute adjusted R-squared\n",
    "    rmse = np.sqrt(mean_squared_error(target, pred))  # To compute RMSE\n",
    "    mae = mean_absolute_error(target, pred)           # To compute MAE\n",
    "    mape = mape_score(target, pred)                   # To compute MAPE\n",
    "\n",
    "    # Creating a dataframe of metrics\n",
    "    df_perf = pd.DataFrame(\n",
    "        {\n",
    "            \"RMSE\": rmse,\n",
    "            \"MAE\": mae,\n",
    "            \"R-squared\": r2,\n",
    "            \"Adj. R-squared\": adjr2,\n",
    "            \"MAPE\": mape,\n",
    "        },\n",
    "        index=[0],\n",
    "    )\n",
    "\n",
    "    return df_perf"
   ]
  },
  {
   "cell_type": "code",
   "execution_count": 25,
   "metadata": {
    "id": "HeLDFrO32pML",
    "scrolled": false
   },
   "outputs": [
    {
     "name": "stdout",
     "output_type": "stream",
     "text": [
      "                            OLS Regression Results                            \n",
      "==============================================================================\n",
      "Dep. Variable:         Stay (in days)   R-squared:                       0.843\n",
      "Model:                            OLS   Adj. R-squared:                  0.843\n",
      "Method:                 Least Squares   F-statistic:                 5.643e+04\n",
      "Date:                Mon, 24 Apr 2023   Prob (F-statistic):               0.00\n",
      "Time:                        02:10:45   Log-Likelihood:            -1.0246e+06\n",
      "No. Observations:              400000   AIC:                         2.049e+06\n",
      "Df Residuals:                  399961   BIC:                         2.050e+06\n",
      "Df Model:                          38                                         \n",
      "Covariance Type:            nonrobust                                         \n",
      "=========================================================================================================\n",
      "                                            coef    std err          t      P>|t|      [0.025      0.975]\n",
      "---------------------------------------------------------------------------------------------------------\n",
      "const                                    19.8918      0.055    359.659      0.000      19.783      20.000\n",
      "Available Extra Rooms in Hospital         0.0786      0.002     42.311      0.000       0.075       0.082\n",
      "staff_available                          -0.0009      0.002     -0.588      0.557      -0.004       0.002\n",
      "Visitors with Patient                     0.0002      0.002      0.099      0.921      -0.004       0.005\n",
      "Admission_Deposit                     -3.839e-05   4.78e-06     -8.029      0.000   -4.78e-05    -2.9e-05\n",
      "Department_anesthesia                     6.0823      0.029    210.110      0.000       6.026       6.139\n",
      "Department_gynecology                     0.4635      0.019     24.149      0.000       0.426       0.501\n",
      "Department_radiotherapy                  -4.6217      0.037   -126.135      0.000      -4.693      -4.550\n",
      "Department_surgery                        9.6867      0.044    218.475      0.000       9.600       9.774\n",
      "Ward_Facility_Code_B                      0.2571      0.011     23.468      0.000       0.236       0.279\n",
      "Ward_Facility_Code_C                      0.4349      0.035     12.604      0.000       0.367       0.503\n",
      "Ward_Facility_Code_D                      0.2033      0.011     19.313      0.000       0.183       0.224\n",
      "Ward_Facility_Code_E                      0.3087      0.021     14.409      0.000       0.267       0.351\n",
      "Ward_Facility_Code_F                      0.0031      0.011      0.282      0.778      -0.018       0.025\n",
      "doctor_name_Dr John                       7.2631      0.031    232.919      0.000       7.202       7.324\n",
      "doctor_name_Dr Mark                       1.1949      0.033     36.394      0.000       1.131       1.259\n",
      "doctor_name_Dr Nathan                    -0.2164      0.017    -12.662      0.000      -0.250      -0.183\n",
      "doctor_name_Dr Olivia                    -0.3620      0.016    -22.985      0.000      -0.393      -0.331\n",
      "doctor_name_Dr Sam                        1.2836      0.038     33.875      0.000       1.209       1.358\n",
      "doctor_name_Dr Sarah                      0.8252      0.020     41.740      0.000       0.786       0.864\n",
      "doctor_name_Dr Simon                      6.1602      0.069     89.051      0.000       6.025       6.296\n",
      "doctor_name_Dr Sophia                     0.2167      0.020     10.605      0.000       0.177       0.257\n",
      "Age_11-20                               -12.7378      0.065   -194.584      0.000     -12.866     -12.609\n",
      "Age_21-30                               -10.4830      0.062   -168.463      0.000     -10.605     -10.361\n",
      "Age_31-40                               -13.4354      0.062   -216.955      0.000     -13.557     -13.314\n",
      "Age_41-50                               -13.5113      0.062   -216.833      0.000     -13.633     -13.389\n",
      "Age_51-60                                -0.3664      0.065     -5.649      0.000      -0.494      -0.239\n",
      "Age_61-70                                -0.4217      0.064     -6.591      0.000      -0.547      -0.296\n",
      "Age_71-80                                -0.2193      0.066     -3.342      0.001      -0.348      -0.091\n",
      "Age_81-90                                -0.0174      0.072     -0.242      0.809      -0.158       0.123\n",
      "Age_91-100                               -0.2599      0.112     -2.323      0.020      -0.479      -0.041\n",
      "gender_Male                               6.0050      0.038    156.967      0.000       5.930       6.080\n",
      "gender_Other                             -0.0257      0.030     -0.846      0.398      -0.085       0.034\n",
      "Type of Admission_Trauma                 -0.0669      0.012     -5.640      0.000      -0.090      -0.044\n",
      "Type of Admission_Urgent                  0.1500      0.018      8.292      0.000       0.115       0.185\n",
      "Severity of Illness_Minor                 0.0418      0.016      2.547      0.011       0.010       0.074\n",
      "Severity of Illness_Moderate              0.0967      0.016      5.980      0.000       0.065       0.128\n",
      "health_conditions_Diabetes               -0.3422      0.028    -12.150      0.000      -0.397      -0.287\n",
      "health_conditions_Heart disease           0.6037      0.032     19.033      0.000       0.542       0.666\n",
      "health_conditions_High Blood Pressure    -0.0317      0.019     -1.666      0.096      -0.069       0.006\n",
      "health_conditions_None                    0.0140      0.024      0.576      0.565      -0.034       0.062\n",
      "health_conditions_Other                   0.0186      0.025      0.735      0.463      -0.031       0.068\n",
      "Insurance_Yes                            -0.0108      0.012     -0.889      0.374      -0.035       0.013\n",
      "==============================================================================\n",
      "Omnibus:                   131769.068   Durbin-Watson:                   1.998\n",
      "Prob(Omnibus):                  0.000   Jarque-Bera (JB):           708961.811\n",
      "Skew:                           1.495   Prob(JB):                         0.00\n",
      "Kurtosis:                       8.796   Cond. No.                     1.03e+16\n",
      "==============================================================================\n",
      "\n",
      "Notes:\n",
      "[1] Standard Errors assume that the covariance matrix of the errors is correctly specified.\n",
      "[2] The smallest eigenvalue is 8.91e-20. This might indicate that there are\n",
      "strong multicollinearity problems or that the design matrix is singular.\n"
     ]
    }
   ],
   "source": [
    "import statsmodels.api as sm\n",
    "\n",
    "# Statsmodel API does not add a constant by default. We need to add it explicitly.\n",
    "x_train1 = sm.add_constant(x_train)\n",
    "\n",
    "# Add constant to test data\n",
    "x_test1 = sm.add_constant(x_test)\n",
    "\n",
    "# Train the model\n",
    "olsmodel1 = sm.OLS(y_train, x_train1).fit()\n",
    "\n",
    "# Get the model summary\n",
    "olsmodel1.summary()\n",
    "print(olsmodel1.summary())"
   ]
  },
  {
   "cell_type": "code",
   "execution_count": 26,
   "metadata": {
    "id": "9z-AWRfw2pMN"
   },
   "outputs": [
    {
     "data": {
      "text/html": [
       "<div>\n",
       "<style scoped>\n",
       "    .dataframe tbody tr th:only-of-type {\n",
       "        vertical-align: middle;\n",
       "    }\n",
       "\n",
       "    .dataframe tbody tr th {\n",
       "        vertical-align: top;\n",
       "    }\n",
       "\n",
       "    .dataframe thead th {\n",
       "        text-align: right;\n",
       "    }\n",
       "</style>\n",
       "<table border=\"1\" class=\"dataframe\">\n",
       "  <thead>\n",
       "    <tr style=\"text-align: right;\">\n",
       "      <th></th>\n",
       "      <th>RMSE</th>\n",
       "      <th>MAE</th>\n",
       "      <th>R-squared</th>\n",
       "      <th>Adj. R-squared</th>\n",
       "      <th>MAPE</th>\n",
       "    </tr>\n",
       "  </thead>\n",
       "  <tbody>\n",
       "    <tr>\n",
       "      <th>0</th>\n",
       "      <td>3.144036</td>\n",
       "      <td>2.155759</td>\n",
       "      <td>0.84303</td>\n",
       "      <td>0.842962</td>\n",
       "      <td>19.676874</td>\n",
       "    </tr>\n",
       "  </tbody>\n",
       "</table>\n",
       "</div>"
      ],
      "text/plain": [
       "       RMSE       MAE  R-squared  Adj. R-squared       MAPE\n",
       "0  3.144036  2.155759    0.84303        0.842962  19.676874"
      ]
     },
     "execution_count": 26,
     "metadata": {},
     "output_type": "execute_result"
    }
   ],
   "source": [
    "lin_reg_test = model_performance_regression(olsmodel1, x_test1, y_test)\n",
    "lin_reg_test"
   ]
  },
  {
   "cell_type": "markdown",
   "metadata": {
    "id": "pEUsT8xc2pMN"
   },
   "source": [
    "**Observations:**\n",
    "\n",
    "- We can observe that `R-squared` for the model is `~0.84`. \n",
    "- Not all the variables are statistically significant enough to predict the outcome variable. To check which ones are statistically significant or have enough predictive power to predict the target variable, we check the `p-value` for all the independent variables. Independent variables with a p-value of higher than 0.05 are not significant for the 95% confidence level.\n",
    "\n",
    "**Interpreting the Regression Results:**\n",
    "\n",
    "1. **Adjusted R-squared**: It reflects the fit of the model.\n",
    "    - R-squared values range from 0 to 1, where a higher value generally indicates a better fit, assuming certain conditions are met.\n",
    "    - In our case, the value for Adj. R-squared is **0.84**\n",
    "\n",
    "2. **coef**: It represents the change in the output Y due to a change of one unit in the variable (everything else held constant).\n",
    "3. **std err**: It reflects the level of accuracy of the coefficients.\n",
    "    - The lower it is, the more accurate the coefficients are.\n",
    "4. **P > |t|**: The p-value:\n",
    "   \n",
    "   * Pr(>|t|): For each independent feature there is a null hypothesis and an alternate hypothesis \n",
    "\n",
    "    **Ho:** Null Hypothesis - The independent feature is not significant \n",
    "   \n",
    "    **Ha:** Alternate Hypothesis - The independent feature is significant \n",
    "    \n",
    "   * A p-value of less than 0.05 is considered to be statistically significant.\n",
    "\n",
    "   \n",
    "5. **Confidence Interval**: It represents the range in which our coefficients are likely to fall (with a likelihood of 95%).\n",
    "\n",
    "\n",
    "\n",
    "* Both the **R-squared and Adjusted R-squared of the model are around 84%**. This is a clear indication that we have been able to create a good model that can explain variance in the LOS of patients for up to 84%.\n",
    "\n",
    "* We can examine the significance of the regression model, and try dropping insignificant variables."
   ]
  },
  {
   "cell_type": "code",
   "execution_count": 30,
   "metadata": {
    "id": "7COP-riGF5f5",
    "scrolled": true
   },
   "outputs": [
    {
     "name": "stdout",
     "output_type": "stream",
     "text": [
      "Performance on training data: \n"
     ]
    },
    {
     "data": {
      "text/html": [
       "<div>\n",
       "<style scoped>\n",
       "    .dataframe tbody tr th:only-of-type {\n",
       "        vertical-align: middle;\n",
       "    }\n",
       "\n",
       "    .dataframe tbody tr th {\n",
       "        vertical-align: top;\n",
       "    }\n",
       "\n",
       "    .dataframe thead th {\n",
       "        text-align: right;\n",
       "    }\n",
       "</style>\n",
       "<table border=\"1\" class=\"dataframe\">\n",
       "  <thead>\n",
       "    <tr style=\"text-align: right;\">\n",
       "      <th></th>\n",
       "      <th>RMSE</th>\n",
       "      <th>MAE</th>\n",
       "      <th>R-squared</th>\n",
       "      <th>Adj. R-squared</th>\n",
       "      <th>MAPE</th>\n",
       "    </tr>\n",
       "  </thead>\n",
       "  <tbody>\n",
       "    <tr>\n",
       "      <th>0</th>\n",
       "      <td>3.135092</td>\n",
       "      <td>2.14624</td>\n",
       "      <td>0.842813</td>\n",
       "      <td>0.842796</td>\n",
       "      <td>19.591781</td>\n",
       "    </tr>\n",
       "  </tbody>\n",
       "</table>\n",
       "</div>"
      ],
      "text/plain": [
       "       RMSE      MAE  R-squared  Adj. R-squared       MAPE\n",
       "0  3.135092  2.14624   0.842813        0.842796  19.591781"
      ]
     },
     "execution_count": 30,
     "metadata": {},
     "output_type": "execute_result"
    }
   ],
   "source": [
    "print(\"Performance on training data: \")\n",
    "model_performance_regression(olsmodel1, x_train1, y_train)"
   ]
  },
  {
   "cell_type": "code",
   "execution_count": 31,
   "metadata": {
    "id": "VMRY5SoA2pMO",
    "scrolled": true
   },
   "outputs": [
    {
     "name": "stdout",
     "output_type": "stream",
     "text": [
      "Performance on testing data: \n"
     ]
    },
    {
     "data": {
      "text/html": [
       "<div>\n",
       "<style scoped>\n",
       "    .dataframe tbody tr th:only-of-type {\n",
       "        vertical-align: middle;\n",
       "    }\n",
       "\n",
       "    .dataframe tbody tr th {\n",
       "        vertical-align: top;\n",
       "    }\n",
       "\n",
       "    .dataframe thead th {\n",
       "        text-align: right;\n",
       "    }\n",
       "</style>\n",
       "<table border=\"1\" class=\"dataframe\">\n",
       "  <thead>\n",
       "    <tr style=\"text-align: right;\">\n",
       "      <th></th>\n",
       "      <th>RMSE</th>\n",
       "      <th>MAE</th>\n",
       "      <th>R-squared</th>\n",
       "      <th>Adj. R-squared</th>\n",
       "      <th>MAPE</th>\n",
       "    </tr>\n",
       "  </thead>\n",
       "  <tbody>\n",
       "    <tr>\n",
       "      <th>0</th>\n",
       "      <td>3.144036</td>\n",
       "      <td>2.155759</td>\n",
       "      <td>0.84303</td>\n",
       "      <td>0.842962</td>\n",
       "      <td>19.676874</td>\n",
       "    </tr>\n",
       "  </tbody>\n",
       "</table>\n",
       "</div>"
      ],
      "text/plain": [
       "       RMSE       MAE  R-squared  Adj. R-squared       MAPE\n",
       "0  3.144036  2.155759    0.84303        0.842962  19.676874"
      ]
     },
     "execution_count": 31,
     "metadata": {},
     "output_type": "execute_result"
    }
   ],
   "source": [
    "print(\"Performance on testing data: \")\n",
    "model_performance_regression(olsmodel1, x_test1, y_test)"
   ]
  },
  {
   "cell_type": "markdown",
   "metadata": {
    "id": "SYh_DeQl2pMO"
   },
   "source": [
    "**Observations:**\n",
    "\n",
    "- **The Root Mean Squared Error** of train and test data are **very close**, indicating that **our model is not overfitting** to the training data.\n",
    "\n",
    "- Mean Absolute Error (MAE) indicates that the current model can predict LOS of patients within **mean error of 2.15 days** on the test data.\n",
    "\n",
    "- The units of both RMSE and MAE are the same - days in this case. But RMSE is greater than MAE because it penalizes the outliers more.\n",
    "\n",
    "- **Mean Absolute Percentage Error is ~19%** on the test data, indicating that the average difference between the predicted value and the actual value is ~19%."
   ]
  },
  {
   "cell_type": "markdown",
   "metadata": {
    "id": "TyUv4959jMO8"
   },
   "source": [
    "### **Checking for Multicollinearity**\n",
    "\n",
    "**Multicollinearity** occurs when **independent variables** in a regression model are **highly correlated** to each other, such that they do not provide **unique** or independent information. A regression coefficient is interpreted as the mean change in the target for each unit change in a feature when all other characteristics are held constant. Changes in one aspect can affect other features when they are correlated. The stronger the relationship, the more difficult it is to change one element without affecting the others. Because the features tend to change concurrently, it becomes difficult for the model to evaluate the link between each variable and the target individually.\n",
    "\n",
    "**Variation Inflation Factor (VIF)** is one of the most common ways of detecting multicollinearity in data. The Variation Inflation Factor (VIF) is one of the most common methods for detecting multicollinearity in data. The VIF calculates how much the variance of a regression coefficient is inflated due to model multicollinearity. \n",
    "\n",
    "The VIF can be calculated in two steps,\n",
    "*   Choose and execute a regression analysis on an independent variable for which you are attempting to calculate VIF. For example, suppose there are three independent variables X1, X2, and X3, and a target variable Y. If we wish to calculate VIF for the variable X1, we use X1 as the target variable and X2 and X3 as independent variables **(X1=b0+b1.X2+b2.X3)**.\n",
    "* The regression model mentioned above gives us R2 squared. The formula below is used to calculate the VIF using R2.\n",
    "\n",
    "> ![test_image](https://raw.githubusercontent.com/GL-ACADOPS/RS-IMAGES/main/vif.jpg)\n",
    "\n",
    "Variance inflation factor (VIFs) tells **\"what percentage of the variance is inflated for each coefficient\"**. For example, a VIF of 1.7 tells you that the variance of a particular coefficient is 70% bigger than what you would expect if there was no multicollinearity, i.e., if there was no correlation with other predictors. \n",
    "\n",
    "Usually, features having a VIF score greater than 5 are dropped/treated till all the features have a VIF score of less than 5."
   ]
  },
  {
   "cell_type": "code",
   "execution_count": 32,
   "metadata": {
    "id": "XgIPfmYXjMO8"
   },
   "outputs": [],
   "source": [
    "from statsmodels.stats.outliers_influence import variance_inflation_factor\n",
    "\n",
    "def checking_vif(train):\n",
    "    vif = pd.DataFrame()\n",
    "    vif[\"feature\"] = train.columns\n",
    "\n",
    "    # Calculating VIF for each feature\n",
    "    vif[\"VIF\"] = [\n",
    "        variance_inflation_factor(train.values, i) for i in range(len(train.columns))\n",
    "    ]\n",
    "    return vif\n"
   ]
  },
  {
   "cell_type": "code",
   "execution_count": 33,
   "metadata": {
    "id": "7DeiU2gvjMO8"
   },
   "outputs": [
    {
     "name": "stdout",
     "output_type": "stream",
     "text": [
      "                                  feature        VIF\n",
      "0                                   const   0.000000\n",
      "1       Available Extra Rooms in Hospital   1.023190\n",
      "2                         staff_available   1.001928\n",
      "3                   Visitors with Patient   1.029237\n",
      "4                       Admission_Deposit   1.021088\n",
      "5                   Department_anesthesia   2.737559\n",
      "6                   Department_gynecology        inf\n",
      "7                 Department_radiotherapy   7.650821\n",
      "8                      Department_surgery        inf\n",
      "9                    Ward_Facility_Code_B        inf\n",
      "10                   Ward_Facility_Code_C   1.366866\n",
      "11                   Ward_Facility_Code_D        inf\n",
      "12                   Ward_Facility_Code_E   2.880783\n",
      "13                   Ward_Facility_Code_F        inf\n",
      "14                    doctor_name_Dr John        inf\n",
      "15                    doctor_name_Dr Mark        inf\n",
      "16                  doctor_name_Dr Nathan        inf\n",
      "17                  doctor_name_Dr Olivia        inf\n",
      "18                     doctor_name_Dr Sam        inf\n",
      "19                   doctor_name_Dr Sarah        inf\n",
      "20                   doctor_name_Dr Simon        inf\n",
      "21                  doctor_name_Dr Sophia        inf\n",
      "22                              Age_11-20  14.638251\n",
      "23                              Age_21-30  34.305314\n",
      "24                              Age_31-40  30.513535\n",
      "25                              Age_41-50  21.345112\n",
      "26                              Age_51-60   7.070183\n",
      "27                              Age_61-70   8.363352\n",
      "28                              Age_71-80   6.310420\n",
      "29                              Age_81-90   3.376431\n",
      "30                             Age_91-100   1.405018\n",
      "31                            gender_Male        inf\n",
      "32                           gender_Other   1.837921\n",
      "33               Type of Admission_Trauma   1.346964\n",
      "34               Type of Admission_Urgent   1.278153\n",
      "35              Severity of Illness_Minor   2.125553\n",
      "36           Severity of Illness_Moderate   2.622707\n",
      "37             health_conditions_Diabetes   4.055237\n",
      "38        health_conditions_Heart disease   2.681223\n",
      "39  health_conditions_High Blood Pressure   1.965906\n",
      "40                 health_conditions_None   5.084086\n",
      "41                health_conditions_Other   3.988141\n",
      "42                          Insurance_Yes   1.006749\n"
     ]
    }
   ],
   "source": [
    "print(checking_vif(x_train1))"
   ]
  },
  {
   "cell_type": "markdown",
   "metadata": {
    "id": "EHVUop0rjMO9"
   },
   "source": [
    "- All the continuous variables have VIF less than 5, which makes sense according to what we observed in correlation heatmap.\n",
    "\n",
    "**Note:** It is not a good practice to consider VIF values for dummy variables as they are correlated to other categories and hence have a high VIF usually. In such a case, we can check the p-values of coefficients."
   ]
  },
  {
   "cell_type": "markdown",
   "metadata": {
    "id": "GtfJkhgr2pMP"
   },
   "source": [
    "## **Dropping the insignificant variables and creating the regression model again**"
   ]
  },
  {
   "cell_type": "markdown",
   "metadata": {
    "id": "hvDa_4-i2pMP"
   },
   "source": [
    "### **Examining the significance of the model**\n",
    "\n",
    "It is not enough to just fit a multiple regression model to the data, it is also necessary to check whether all the regression coefficients are significant or not. The significance here means whether the population regression parameters are significantly different from zero.\n",
    "\n",
    "From the above, it may be noted that the regression coefficients corresponding to staff_available, Visitors with Patient, and Insurance_Yes **are not statistically significant at significance level α = 0.05.** In other words, the regression coefficients corresponding to these three are not significantly different from 0 in the population. \n",
    "\n",
    "Suppose you have a nominal categorical variable having 4 categories (or levels). You would create 3 dummy variables (k-1 = 4-1 dummy variables) and set one category as a reference level. Suppose one of them is insignificant, then if you exclude that dummy variable, it would change the reference level as you are indirectly combining that insignificant level with the original reference level. It would have a new reference level and interpretation would change. Moreover, excluding the level may make the others insignificant. If all the categories in a column show p-value higher than 0.05, then we can drop that column.\n",
    "\n",
    "**Hence, we will eliminate these three features and create a new model.**"
   ]
  },
  {
   "cell_type": "code",
   "execution_count": 35,
   "metadata": {
    "id": "zqm3MODN2pMP"
   },
   "outputs": [
    {
     "data": {
      "text/html": [
       "<table class=\"simpletable\">\n",
       "<caption>OLS Regression Results</caption>\n",
       "<tr>\n",
       "  <th>Dep. Variable:</th>     <td>Stay (in days)</td>  <th>  R-squared:         </th>  <td>   0.843</td>  \n",
       "</tr>\n",
       "<tr>\n",
       "  <th>Model:</th>                   <td>OLS</td>       <th>  Adj. R-squared:    </th>  <td>   0.843</td>  \n",
       "</tr>\n",
       "<tr>\n",
       "  <th>Method:</th>             <td>Least Squares</td>  <th>  F-statistic:       </th>  <td>6.127e+04</td> \n",
       "</tr>\n",
       "<tr>\n",
       "  <th>Date:</th>             <td>Mon, 24 Apr 2023</td> <th>  Prob (F-statistic):</th>   <td>  0.00</td>   \n",
       "</tr>\n",
       "<tr>\n",
       "  <th>Time:</th>                 <td>02:14:23</td>     <th>  Log-Likelihood:    </th> <td>-1.0246e+06</td>\n",
       "</tr>\n",
       "<tr>\n",
       "  <th>No. Observations:</th>      <td>400000</td>      <th>  AIC:               </th>  <td>2.049e+06</td> \n",
       "</tr>\n",
       "<tr>\n",
       "  <th>Df Residuals:</th>          <td>399964</td>      <th>  BIC:               </th>  <td>2.050e+06</td> \n",
       "</tr>\n",
       "<tr>\n",
       "  <th>Df Model:</th>              <td>    35</td>      <th>                     </th>      <td> </td>     \n",
       "</tr>\n",
       "<tr>\n",
       "  <th>Covariance Type:</th>      <td>nonrobust</td>    <th>                     </th>      <td> </td>     \n",
       "</tr>\n",
       "</table>\n",
       "<table class=\"simpletable\">\n",
       "<tr>\n",
       "                    <td></td>                       <th>coef</th>     <th>std err</th>      <th>t</th>      <th>P>|t|</th>  <th>[0.025</th>    <th>0.975]</th>  \n",
       "</tr>\n",
       "<tr>\n",
       "  <th>const</th>                                 <td>   19.8830</td> <td>    0.054</td> <td>  367.192</td> <td> 0.000</td> <td>   19.777</td> <td>   19.989</td>\n",
       "</tr>\n",
       "<tr>\n",
       "  <th>Available Extra Rooms in Hospital</th>     <td>    0.0786</td> <td>    0.002</td> <td>   42.392</td> <td> 0.000</td> <td>    0.075</td> <td>    0.082</td>\n",
       "</tr>\n",
       "<tr>\n",
       "  <th>Admission_Deposit</th>                     <td>-3.843e-05</td> <td> 4.77e-06</td> <td>   -8.052</td> <td> 0.000</td> <td>-4.78e-05</td> <td>-2.91e-05</td>\n",
       "</tr>\n",
       "<tr>\n",
       "  <th>Department_anesthesia</th>                 <td>    6.0823</td> <td>    0.029</td> <td>  210.151</td> <td> 0.000</td> <td>    6.026</td> <td>    6.139</td>\n",
       "</tr>\n",
       "<tr>\n",
       "  <th>Department_gynecology</th>                 <td>    0.4614</td> <td>    0.019</td> <td>   24.233</td> <td> 0.000</td> <td>    0.424</td> <td>    0.499</td>\n",
       "</tr>\n",
       "<tr>\n",
       "  <th>Department_radiotherapy</th>               <td>   -4.6218</td> <td>    0.037</td> <td> -126.176</td> <td> 0.000</td> <td>   -4.694</td> <td>   -4.550</td>\n",
       "</tr>\n",
       "<tr>\n",
       "  <th>Department_surgery</th>                    <td>    9.6845</td> <td>    0.044</td> <td>  218.840</td> <td> 0.000</td> <td>    9.598</td> <td>    9.771</td>\n",
       "</tr>\n",
       "<tr>\n",
       "  <th>Ward_Facility_Code_B</th>                  <td>    0.2563</td> <td>    0.011</td> <td>   23.447</td> <td> 0.000</td> <td>    0.235</td> <td>    0.278</td>\n",
       "</tr>\n",
       "<tr>\n",
       "  <th>Ward_Facility_Code_C</th>                  <td>    0.4350</td> <td>    0.034</td> <td>   12.612</td> <td> 0.000</td> <td>    0.367</td> <td>    0.503</td>\n",
       "</tr>\n",
       "<tr>\n",
       "  <th>Ward_Facility_Code_D</th>                  <td>    0.2027</td> <td>    0.010</td> <td>   19.348</td> <td> 0.000</td> <td>    0.182</td> <td>    0.223</td>\n",
       "</tr>\n",
       "<tr>\n",
       "  <th>Ward_Facility_Code_E</th>                  <td>    0.3088</td> <td>    0.021</td> <td>   14.447</td> <td> 0.000</td> <td>    0.267</td> <td>    0.351</td>\n",
       "</tr>\n",
       "<tr>\n",
       "  <th>Ward_Facility_Code_F</th>                  <td>    0.0024</td> <td>    0.011</td> <td>    0.223</td> <td> 0.823</td> <td>   -0.019</td> <td>    0.024</td>\n",
       "</tr>\n",
       "<tr>\n",
       "  <th>doctor_name_Dr John</th>                   <td>    7.2605</td> <td>    0.031</td> <td>  234.529</td> <td> 0.000</td> <td>    7.200</td> <td>    7.321</td>\n",
       "</tr>\n",
       "<tr>\n",
       "  <th>doctor_name_Dr Mark</th>                   <td>    1.1939</td> <td>    0.033</td> <td>   36.405</td> <td> 0.000</td> <td>    1.130</td> <td>    1.258</td>\n",
       "</tr>\n",
       "<tr>\n",
       "  <th>doctor_name_Dr Nathan</th>                 <td>   -0.2169</td> <td>    0.017</td> <td>  -12.700</td> <td> 0.000</td> <td>   -0.250</td> <td>   -0.183</td>\n",
       "</tr>\n",
       "<tr>\n",
       "  <th>doctor_name_Dr Olivia</th>                 <td>   -0.3626</td> <td>    0.016</td> <td>  -23.037</td> <td> 0.000</td> <td>   -0.393</td> <td>   -0.332</td>\n",
       "</tr>\n",
       "<tr>\n",
       "  <th>doctor_name_Dr Sam</th>                    <td>    1.2826</td> <td>    0.038</td> <td>   33.877</td> <td> 0.000</td> <td>    1.208</td> <td>    1.357</td>\n",
       "</tr>\n",
       "<tr>\n",
       "  <th>doctor_name_Dr Sarah</th>                  <td>    0.8247</td> <td>    0.020</td> <td>   41.732</td> <td> 0.000</td> <td>    0.786</td> <td>    0.863</td>\n",
       "</tr>\n",
       "<tr>\n",
       "  <th>doctor_name_Dr Simon</th>                  <td>    6.1584</td> <td>    0.069</td> <td>   89.079</td> <td> 0.000</td> <td>    6.023</td> <td>    6.294</td>\n",
       "</tr>\n",
       "<tr>\n",
       "  <th>doctor_name_Dr Sophia</th>                 <td>    0.2162</td> <td>    0.020</td> <td>   10.583</td> <td> 0.000</td> <td>    0.176</td> <td>    0.256</td>\n",
       "</tr>\n",
       "<tr>\n",
       "  <th>Age_11-20</th>                             <td>  -12.7379</td> <td>    0.065</td> <td> -194.592</td> <td> 0.000</td> <td>  -12.866</td> <td>  -12.610</td>\n",
       "</tr>\n",
       "<tr>\n",
       "  <th>Age_21-30</th>                             <td>  -10.4831</td> <td>    0.062</td> <td> -168.470</td> <td> 0.000</td> <td>  -10.605</td> <td>  -10.361</td>\n",
       "</tr>\n",
       "<tr>\n",
       "  <th>Age_31-40</th>                             <td>  -13.4355</td> <td>    0.062</td> <td> -216.958</td> <td> 0.000</td> <td>  -13.557</td> <td>  -13.314</td>\n",
       "</tr>\n",
       "<tr>\n",
       "  <th>Age_41-50</th>                             <td>  -13.5114</td> <td>    0.062</td> <td> -216.834</td> <td> 0.000</td> <td>  -13.633</td> <td>  -13.389</td>\n",
       "</tr>\n",
       "<tr>\n",
       "  <th>Age_51-60</th>                             <td>   -0.3665</td> <td>    0.065</td> <td>   -5.651</td> <td> 0.000</td> <td>   -0.494</td> <td>   -0.239</td>\n",
       "</tr>\n",
       "<tr>\n",
       "  <th>Age_61-70</th>                             <td>   -0.4217</td> <td>    0.064</td> <td>   -6.592</td> <td> 0.000</td> <td>   -0.547</td> <td>   -0.296</td>\n",
       "</tr>\n",
       "<tr>\n",
       "  <th>Age_71-80</th>                             <td>   -0.2193</td> <td>    0.066</td> <td>   -3.343</td> <td> 0.001</td> <td>   -0.348</td> <td>   -0.091</td>\n",
       "</tr>\n",
       "<tr>\n",
       "  <th>Age_81-90</th>                             <td>   -0.0174</td> <td>    0.072</td> <td>   -0.243</td> <td> 0.808</td> <td>   -0.158</td> <td>    0.123</td>\n",
       "</tr>\n",
       "<tr>\n",
       "  <th>Age_91-100</th>                            <td>   -0.2600</td> <td>    0.112</td> <td>   -2.323</td> <td> 0.020</td> <td>   -0.479</td> <td>   -0.041</td>\n",
       "</tr>\n",
       "<tr>\n",
       "  <th>gender_Male</th>                           <td>    6.0026</td> <td>    0.038</td> <td>  157.336</td> <td> 0.000</td> <td>    5.928</td> <td>    6.077</td>\n",
       "</tr>\n",
       "<tr>\n",
       "  <th>gender_Other</th>                          <td>   -0.0258</td> <td>    0.030</td> <td>   -0.849</td> <td> 0.396</td> <td>   -0.085</td> <td>    0.034</td>\n",
       "</tr>\n",
       "<tr>\n",
       "  <th>Type of Admission_Trauma</th>              <td>   -0.0669</td> <td>    0.012</td> <td>   -5.639</td> <td> 0.000</td> <td>   -0.090</td> <td>   -0.044</td>\n",
       "</tr>\n",
       "<tr>\n",
       "  <th>Type of Admission_Urgent</th>              <td>    0.1500</td> <td>    0.018</td> <td>    8.293</td> <td> 0.000</td> <td>    0.115</td> <td>    0.185</td>\n",
       "</tr>\n",
       "<tr>\n",
       "  <th>Severity of Illness_Minor</th>             <td>    0.0418</td> <td>    0.016</td> <td>    2.547</td> <td> 0.011</td> <td>    0.010</td> <td>    0.074</td>\n",
       "</tr>\n",
       "<tr>\n",
       "  <th>Severity of Illness_Moderate</th>          <td>    0.0968</td> <td>    0.016</td> <td>    5.983</td> <td> 0.000</td> <td>    0.065</td> <td>    0.128</td>\n",
       "</tr>\n",
       "<tr>\n",
       "  <th>health_conditions_Diabetes</th>            <td>   -0.3421</td> <td>    0.028</td> <td>  -12.149</td> <td> 0.000</td> <td>   -0.397</td> <td>   -0.287</td>\n",
       "</tr>\n",
       "<tr>\n",
       "  <th>health_conditions_Heart disease</th>       <td>    0.6043</td> <td>    0.032</td> <td>   19.057</td> <td> 0.000</td> <td>    0.542</td> <td>    0.666</td>\n",
       "</tr>\n",
       "<tr>\n",
       "  <th>health_conditions_High Blood Pressure</th> <td>   -0.0321</td> <td>    0.019</td> <td>   -1.685</td> <td> 0.092</td> <td>   -0.069</td> <td>    0.005</td>\n",
       "</tr>\n",
       "<tr>\n",
       "  <th>health_conditions_None</th>                <td>    0.0136</td> <td>    0.024</td> <td>    0.561</td> <td> 0.575</td> <td>   -0.034</td> <td>    0.061</td>\n",
       "</tr>\n",
       "<tr>\n",
       "  <th>health_conditions_Other</th>               <td>    0.0185</td> <td>    0.025</td> <td>    0.730</td> <td> 0.465</td> <td>   -0.031</td> <td>    0.068</td>\n",
       "</tr>\n",
       "</table>\n",
       "<table class=\"simpletable\">\n",
       "<tr>\n",
       "  <th>Omnibus:</th>       <td>131768.365</td> <th>  Durbin-Watson:     </th>  <td>   1.998</td> \n",
       "</tr>\n",
       "<tr>\n",
       "  <th>Prob(Omnibus):</th>   <td> 0.000</td>   <th>  Jarque-Bera (JB):  </th> <td>708957.590</td>\n",
       "</tr>\n",
       "<tr>\n",
       "  <th>Skew:</th>            <td> 1.495</td>   <th>  Prob(JB):          </th>  <td>    0.00</td> \n",
       "</tr>\n",
       "<tr>\n",
       "  <th>Kurtosis:</th>        <td> 8.796</td>   <th>  Cond. No.          </th>  <td>1.03e+16</td> \n",
       "</tr>\n",
       "</table><br/><br/>Notes:<br/>[1] Standard Errors assume that the covariance matrix of the errors is correctly specified.<br/>[2] The smallest eigenvalue is 8.91e-20. This might indicate that there are<br/>strong multicollinearity problems or that the design matrix is singular."
      ],
      "text/plain": [
       "<class 'statsmodels.iolib.summary.Summary'>\n",
       "\"\"\"\n",
       "                            OLS Regression Results                            \n",
       "==============================================================================\n",
       "Dep. Variable:         Stay (in days)   R-squared:                       0.843\n",
       "Model:                            OLS   Adj. R-squared:                  0.843\n",
       "Method:                 Least Squares   F-statistic:                 6.127e+04\n",
       "Date:                Mon, 24 Apr 2023   Prob (F-statistic):               0.00\n",
       "Time:                        02:14:23   Log-Likelihood:            -1.0246e+06\n",
       "No. Observations:              400000   AIC:                         2.049e+06\n",
       "Df Residuals:                  399964   BIC:                         2.050e+06\n",
       "Df Model:                          35                                         \n",
       "Covariance Type:            nonrobust                                         \n",
       "=========================================================================================================\n",
       "                                            coef    std err          t      P>|t|      [0.025      0.975]\n",
       "---------------------------------------------------------------------------------------------------------\n",
       "const                                    19.8830      0.054    367.192      0.000      19.777      19.989\n",
       "Available Extra Rooms in Hospital         0.0786      0.002     42.392      0.000       0.075       0.082\n",
       "Admission_Deposit                     -3.843e-05   4.77e-06     -8.052      0.000   -4.78e-05   -2.91e-05\n",
       "Department_anesthesia                     6.0823      0.029    210.151      0.000       6.026       6.139\n",
       "Department_gynecology                     0.4614      0.019     24.233      0.000       0.424       0.499\n",
       "Department_radiotherapy                  -4.6218      0.037   -126.176      0.000      -4.694      -4.550\n",
       "Department_surgery                        9.6845      0.044    218.840      0.000       9.598       9.771\n",
       "Ward_Facility_Code_B                      0.2563      0.011     23.447      0.000       0.235       0.278\n",
       "Ward_Facility_Code_C                      0.4350      0.034     12.612      0.000       0.367       0.503\n",
       "Ward_Facility_Code_D                      0.2027      0.010     19.348      0.000       0.182       0.223\n",
       "Ward_Facility_Code_E                      0.3088      0.021     14.447      0.000       0.267       0.351\n",
       "Ward_Facility_Code_F                      0.0024      0.011      0.223      0.823      -0.019       0.024\n",
       "doctor_name_Dr John                       7.2605      0.031    234.529      0.000       7.200       7.321\n",
       "doctor_name_Dr Mark                       1.1939      0.033     36.405      0.000       1.130       1.258\n",
       "doctor_name_Dr Nathan                    -0.2169      0.017    -12.700      0.000      -0.250      -0.183\n",
       "doctor_name_Dr Olivia                    -0.3626      0.016    -23.037      0.000      -0.393      -0.332\n",
       "doctor_name_Dr Sam                        1.2826      0.038     33.877      0.000       1.208       1.357\n",
       "doctor_name_Dr Sarah                      0.8247      0.020     41.732      0.000       0.786       0.863\n",
       "doctor_name_Dr Simon                      6.1584      0.069     89.079      0.000       6.023       6.294\n",
       "doctor_name_Dr Sophia                     0.2162      0.020     10.583      0.000       0.176       0.256\n",
       "Age_11-20                               -12.7379      0.065   -194.592      0.000     -12.866     -12.610\n",
       "Age_21-30                               -10.4831      0.062   -168.470      0.000     -10.605     -10.361\n",
       "Age_31-40                               -13.4355      0.062   -216.958      0.000     -13.557     -13.314\n",
       "Age_41-50                               -13.5114      0.062   -216.834      0.000     -13.633     -13.389\n",
       "Age_51-60                                -0.3665      0.065     -5.651      0.000      -0.494      -0.239\n",
       "Age_61-70                                -0.4217      0.064     -6.592      0.000      -0.547      -0.296\n",
       "Age_71-80                                -0.2193      0.066     -3.343      0.001      -0.348      -0.091\n",
       "Age_81-90                                -0.0174      0.072     -0.243      0.808      -0.158       0.123\n",
       "Age_91-100                               -0.2600      0.112     -2.323      0.020      -0.479      -0.041\n",
       "gender_Male                               6.0026      0.038    157.336      0.000       5.928       6.077\n",
       "gender_Other                             -0.0258      0.030     -0.849      0.396      -0.085       0.034\n",
       "Type of Admission_Trauma                 -0.0669      0.012     -5.639      0.000      -0.090      -0.044\n",
       "Type of Admission_Urgent                  0.1500      0.018      8.293      0.000       0.115       0.185\n",
       "Severity of Illness_Minor                 0.0418      0.016      2.547      0.011       0.010       0.074\n",
       "Severity of Illness_Moderate              0.0968      0.016      5.983      0.000       0.065       0.128\n",
       "health_conditions_Diabetes               -0.3421      0.028    -12.149      0.000      -0.397      -0.287\n",
       "health_conditions_Heart disease           0.6043      0.032     19.057      0.000       0.542       0.666\n",
       "health_conditions_High Blood Pressure    -0.0321      0.019     -1.685      0.092      -0.069       0.005\n",
       "health_conditions_None                    0.0136      0.024      0.561      0.575      -0.034       0.061\n",
       "health_conditions_Other                   0.0185      0.025      0.730      0.465      -0.031       0.068\n",
       "==============================================================================\n",
       "Omnibus:                   131768.365   Durbin-Watson:                   1.998\n",
       "Prob(Omnibus):                  0.000   Jarque-Bera (JB):           708957.590\n",
       "Skew:                           1.495   Prob(JB):                         0.00\n",
       "Kurtosis:                       8.796   Cond. No.                     1.03e+16\n",
       "==============================================================================\n",
       "\n",
       "Notes:\n",
       "[1] Standard Errors assume that the covariance matrix of the errors is correctly specified.\n",
       "[2] The smallest eigenvalue is 8.91e-20. This might indicate that there are\n",
       "strong multicollinearity problems or that the design matrix is singular.\n",
       "\"\"\""
      ]
     },
     "execution_count": 35,
     "metadata": {},
     "output_type": "execute_result"
    }
   ],
   "source": [
    "# Dropping variables\n",
    "x_train2 = x_train1.drop(['Insurance_Yes','staff_available','Visitors with Patient'], axis = 1)\n",
    "x_test2 = x_test1.drop(['Insurance_Yes','staff_available','Visitors with Patient'], axis = 1)\n",
    "\n",
    "# Train the model\n",
    "olsmodel2 = sm.OLS(y_train, x_train2).fit()\n",
    "\n",
    "# Get the model summary\n",
    "olsmodel2.summary()"
   ]
  },
  {
   "cell_type": "markdown",
   "metadata": {
    "id": "16fOWNF62pMS"
   },
   "source": [
    "### **Checking the performance of the model on the train and test datasets**"
   ]
  },
  {
   "cell_type": "code",
   "execution_count": 36,
   "metadata": {
    "id": "mjpqPUcw2pMS"
   },
   "outputs": [
    {
     "name": "stdout",
     "output_type": "stream",
     "text": [
      "Performance on train data: \n"
     ]
    },
    {
     "data": {
      "text/html": [
       "<div>\n",
       "<style scoped>\n",
       "    .dataframe tbody tr th:only-of-type {\n",
       "        vertical-align: middle;\n",
       "    }\n",
       "\n",
       "    .dataframe tbody tr th {\n",
       "        vertical-align: top;\n",
       "    }\n",
       "\n",
       "    .dataframe thead th {\n",
       "        text-align: right;\n",
       "    }\n",
       "</style>\n",
       "<table border=\"1\" class=\"dataframe\">\n",
       "  <thead>\n",
       "    <tr style=\"text-align: right;\">\n",
       "      <th></th>\n",
       "      <th>RMSE</th>\n",
       "      <th>MAE</th>\n",
       "      <th>R-squared</th>\n",
       "      <th>Adj. R-squared</th>\n",
       "      <th>MAPE</th>\n",
       "    </tr>\n",
       "  </thead>\n",
       "  <tbody>\n",
       "    <tr>\n",
       "      <th>0</th>\n",
       "      <td>3.135096</td>\n",
       "      <td>2.146234</td>\n",
       "      <td>0.842812</td>\n",
       "      <td>0.842796</td>\n",
       "      <td>19.591646</td>\n",
       "    </tr>\n",
       "  </tbody>\n",
       "</table>\n",
       "</div>"
      ],
      "text/plain": [
       "       RMSE       MAE  R-squared  Adj. R-squared       MAPE\n",
       "0  3.135096  2.146234   0.842812        0.842796  19.591646"
      ]
     },
     "execution_count": 36,
     "metadata": {},
     "output_type": "execute_result"
    }
   ],
   "source": [
    "print(\"Performance on train data: \")\n",
    "model_performance_regression(olsmodel2, x_train2, y_train)"
   ]
  },
  {
   "cell_type": "code",
   "execution_count": 37,
   "metadata": {
    "id": "7U00tOIA2pMQ"
   },
   "outputs": [
    {
     "name": "stdout",
     "output_type": "stream",
     "text": [
      "Performance on test data: \n"
     ]
    },
    {
     "data": {
      "text/html": [
       "<div>\n",
       "<style scoped>\n",
       "    .dataframe tbody tr th:only-of-type {\n",
       "        vertical-align: middle;\n",
       "    }\n",
       "\n",
       "    .dataframe tbody tr th {\n",
       "        vertical-align: top;\n",
       "    }\n",
       "\n",
       "    .dataframe thead th {\n",
       "        text-align: right;\n",
       "    }\n",
       "</style>\n",
       "<table border=\"1\" class=\"dataframe\">\n",
       "  <thead>\n",
       "    <tr style=\"text-align: right;\">\n",
       "      <th></th>\n",
       "      <th>RMSE</th>\n",
       "      <th>MAE</th>\n",
       "      <th>R-squared</th>\n",
       "      <th>Adj. R-squared</th>\n",
       "      <th>MAPE</th>\n",
       "    </tr>\n",
       "  </thead>\n",
       "  <tbody>\n",
       "    <tr>\n",
       "      <th>0</th>\n",
       "      <td>3.144035</td>\n",
       "      <td>2.155757</td>\n",
       "      <td>0.84303</td>\n",
       "      <td>0.842967</td>\n",
       "      <td>19.676878</td>\n",
       "    </tr>\n",
       "  </tbody>\n",
       "</table>\n",
       "</div>"
      ],
      "text/plain": [
       "       RMSE       MAE  R-squared  Adj. R-squared       MAPE\n",
       "0  3.144035  2.155757    0.84303        0.842967  19.676878"
      ]
     },
     "execution_count": 37,
     "metadata": {},
     "output_type": "execute_result"
    }
   ],
   "source": [
    "print(\"Performance on test data: \")\n",
    "lin_reg_test = model_performance_regression(olsmodel2, x_test2, y_test)\n",
    "lin_reg_test"
   ]
  },
  {
   "cell_type": "markdown",
   "metadata": {
    "id": "O99RtHrB2pMT"
   },
   "source": [
    "**Observation:**\n",
    "\n",
    "* RMSE, MAE, and MAPE of train and test data are very close, indicating that the **model is not overfitting and has generalized well over the unseen data.**"
   ]
  },
  {
   "cell_type": "markdown",
   "metadata": {
    "id": "DRAtH5pejMO-"
   },
   "source": [
    "## **Checking for assumptions and rebuilding the model**"
   ]
  },
  {
   "cell_type": "markdown",
   "metadata": {
    "id": "cUoE2kXHjMO-"
   },
   "source": [
    "In this step, we will check for the below assumptions in the model, to verify if they hold true or not. If the assumptions of model are not satisfied, then the model might give false results. Hence, if any of the assumptions is not true, then we will rebuild the model after fixing those issues."
   ]
  },
  {
   "cell_type": "markdown",
   "metadata": {
    "id": "qY71wm9gjMO-"
   },
   "source": [
    "1. Mean of residuals should be 0\n",
    "2. Normality of error terms\n",
    "3. Linearity of variables\n",
    "4. No Heteroscedasticity"
   ]
  },
  {
   "cell_type": "markdown",
   "metadata": {
    "id": "6GBwCFZ_jMO-"
   },
   "source": [
    "### **Mean of residuals should be 0 and normality of error terms**"
   ]
  },
  {
   "cell_type": "code",
   "execution_count": 38,
   "metadata": {
    "id": "i2zUz5hjjMO-"
   },
   "outputs": [],
   "source": [
    "# Residuals\n",
    "residual = olsmodel2.resid "
   ]
  },
  {
   "cell_type": "code",
   "execution_count": 39,
   "metadata": {
    "id": "6RcD8Y92jMO-"
   },
   "outputs": [
    {
     "data": {
      "text/plain": [
       "-1.0441739028976826e-13"
      ]
     },
     "execution_count": 39,
     "metadata": {},
     "output_type": "execute_result"
    }
   ],
   "source": [
    "residual.mean()"
   ]
  },
  {
   "cell_type": "markdown",
   "metadata": {
    "id": "Co1PABZajMO-"
   },
   "source": [
    "- The mean of residuals is very close to 0. Hence, the corresponding assumption is satisfied."
   ]
  },
  {
   "cell_type": "markdown",
   "metadata": {
    "id": "9qlzboUCjMO-"
   },
   "source": [
    "## **Tests for Normality**\n",
    "\n",
    "**What is the test?**\n",
    "\n",
    "* Error terms/Residuals should be normally distributed.\n",
    "\n",
    "* If the error terms are non-normally distributed, confidence intervals may become too wide or narrow. Once the confidence interval becomes unstable, it leads to difficulty in estimating coefficients based on the minimization of least squares.\n",
    "\n",
    "**What does non-normality indicate?**\n",
    "\n",
    "* It suggests that there are a few unusual data points that must be studied closely to make a better model.\n",
    "\n",
    "**How to check the normality?**\n",
    "\n",
    "* It can be checked via QQ Plot. Residuals following normal distribution will make a straight line plot otherwise not.\n",
    "\n",
    "* Another test to check for normality is the Shapiro-Wilk test.\n",
    "\n",
    "**What if the residuals are not-normal?**\n",
    "\n",
    "* We can apply transformations like a log, exponential, arcsinh, etc. as per our data."
   ]
  },
  {
   "cell_type": "code",
   "execution_count": 40,
   "metadata": {
    "id": "hrSRdTsijMO_"
   },
   "outputs": [
    {
     "data": {
      "text/plain": [
       "<AxesSubplot:ylabel='Count'>"
      ]
     },
     "execution_count": 40,
     "metadata": {},
     "output_type": "execute_result"
    },
    {
     "data": {
      "image/png": "[encoded data removed]",
      "text/plain": [
       "<Figure size 640x480 with 1 Axes>"
      ]
     },
     "metadata": {},
     "output_type": "display_data"
    }
   ],
   "source": [
    "# Plot histogram of residuals\n",
    "sns.histplot(residual, kde=True)"
   ]
  },
  {
   "cell_type": "markdown",
   "metadata": {
    "id": "sDZTI0tujMO_"
   },
   "source": [
    "- The residuals have a close to normal distribution. The assumption of normality is satisfied."
   ]
  },
  {
   "cell_type": "markdown",
   "metadata": {
    "id": "8I3T9lM3jMO_"
   },
   "source": [
    "### **Linearity of Variables**\n",
    "\n",
    "It states that the predictor variables must have a linear relation with the dependent variable.\n",
    "\n",
    "To test the assumption, we'll plot residuals and fitted values on a plot and ensure that residuals do not form a strong pattern. They should be randomly and uniformly scattered on the x-axis."
   ]
  },
  {
   "cell_type": "code",
   "execution_count": 41,
   "metadata": {
    "id": "e-ZpLd4HjMO_"
   },
   "outputs": [
    {
     "data": {
      "image/png": "[encoded data removed]",
      "text/plain": [
       "<Figure size 640x480 with 1 Axes>"
      ]
     },
     "metadata": {},
     "output_type": "display_data"
    }
   ],
   "source": [
    "# Predicted values\n",
    "fitted = olsmodel2.fittedvalues\n",
    "\n",
    "# Plotting Residuals VS Fitted Values\n",
    "sns.residplot(x = fitted, y = residual, color=\"lightblue\")\n",
    "plt.xlabel(\"Fitted Values\")\n",
    "plt.ylabel(\"Residual\")\n",
    "plt.title(\"Residual PLOT\")\n",
    "plt.show()"
   ]
  },
  {
   "cell_type": "markdown",
   "metadata": {
    "id": "RaDSpvbkjMO_"
   },
   "source": [
    "**Observation:**\n",
    "\n",
    "- We can observe that there is no pattern in the residuals vs fitted values scatter plot, i.e., the linearity assumption is satisfied."
   ]
  },
  {
   "cell_type": "markdown",
   "metadata": {
    "id": "SwNu9Ap-jMO_"
   },
   "source": [
    "Now, let's check the final assumption."
   ]
  },
  {
   "cell_type": "markdown",
   "metadata": {
    "id": "TcNWjILojMO_"
   },
   "source": [
    "### **No Heteroscedasticity**"
   ]
  },
  {
   "cell_type": "markdown",
   "metadata": {
    "id": "KUKGPEW1jMO_"
   },
   "source": [
    "* **Homoscedasticity:** If the variance of the residuals is symmetrically distributed across the regression line, then the data is said to be homoscedastic.\n",
    "\n",
    "* **Heteroscedasticity:** If the variance is unequal for the residuals across the regression line, then the data is said to be heteroscedastic. In this case, the residuals can form an arrow shape or any other non-symmetrical shape.\n",
    "\n",
    "* We will use `Goldfeld–Quandt` test to check homoscedasticity:\n",
    "\n",
    "    * **Null hypothesis:** Residuals are homoscedastic\n",
    "\n",
    "    * **Alternate hypothesis:** Residuals are hetroscedastic\n",
    "\n",
    "    * **alpha = 0.05**"
   ]
  },
  {
   "cell_type": "code",
   "execution_count": 42,
   "metadata": {
    "id": "RtKIMAqwjMO_"
   },
   "outputs": [
    {
     "data": {
      "text/plain": [
       "[('F statistic', 1.0039106858288322), ('p-value', 0.19142132359756808)]"
      ]
     },
     "execution_count": 42,
     "metadata": {},
     "output_type": "execute_result"
    }
   ],
   "source": [
    "import statsmodels.stats.api as sms\n",
    "from statsmodels.compat import lzip\n",
    "\n",
    "name = [\"F statistic\", \"p-value\"]\n",
    "test = sms.het_goldfeldquandt(residual, x_train2)\n",
    "lzip(name, test)"
   ]
  },
  {
   "cell_type": "markdown",
   "metadata": {
    "id": "UsrgchC6jMO_"
   },
   "source": [
    "**Observation:**\n",
    "\n",
    "- As we can observe from the above test, the p-value is greater than 0.05. So, we fail to reject the null-hypothesis, i.e., residuals are homoscedastic."
   ]
  },
  {
   "cell_type": "markdown",
   "metadata": {
    "id": "6yUWvsXkH6bm"
   },
   "source": [
    "All the assumptions for the linear regression model are satisfied. With our model's adjusted R-squared value of around 0.84, we can capture **84% of the variation** in the data.\n",
    "\n",
    "The p-values for the independent variables are less than 0.05 in our final model, indicating that they are statistically significant toward Length of Stay (in days) prediction.\n",
    "\n",
    "Now, let's check and interpret the coefficients of the model."
   ]
  },
  {
   "cell_type": "code",
   "execution_count": 43,
   "metadata": {
    "id": "DVM7ssLEjMPA"
   },
   "outputs": [
    {
     "data": {
      "text/plain": [
       "const                                    19.882991\n",
       "Available Extra Rooms in Hospital         0.078613\n",
       "Admission_Deposit                        -0.000038\n",
       "Department_anesthesia                     6.082290\n",
       "Department_gynecology                     0.461435\n",
       "Department_radiotherapy                  -4.621785\n",
       "Department_surgery                        9.684522\n",
       "Ward_Facility_Code_B                      0.256348\n",
       "Ward_Facility_Code_C                      0.435039\n",
       "Ward_Facility_Code_D                      0.202650\n",
       "Ward_Facility_Code_E                      0.308803\n",
       "Ward_Facility_Code_F                      0.002437\n",
       "doctor_name_Dr John                       7.260505\n",
       "doctor_name_Dr Mark                       1.193884\n",
       "doctor_name_Dr Nathan                    -0.216913\n",
       "doctor_name_Dr Olivia                    -0.362561\n",
       "doctor_name_Dr Sam                        1.282646\n",
       "doctor_name_Dr Sarah                      0.824732\n",
       "doctor_name_Dr Simon                      6.158436\n",
       "doctor_name_Dr Sophia                     0.216177\n",
       "Age_11-20                               -12.737857\n",
       "Age_21-30                               -10.483087\n",
       "Age_31-40                               -13.435474\n",
       "Age_41-50                               -13.511366\n",
       "Age_51-60                                -0.366511\n",
       "Age_61-70                                -0.421711\n",
       "Age_71-80                                -0.219299\n",
       "Age_81-90                                -0.017441\n",
       "Age_91-100                               -0.259979\n",
       "gender_Male                               6.002615\n",
       "gender_Other                             -0.025828\n",
       "Type of Admission_Trauma                 -0.066864\n",
       "Type of Admission_Urgent                  0.150018\n",
       "Severity of Illness_Minor                 0.041827\n",
       "Severity of Illness_Moderate              0.096762\n",
       "health_conditions_Diabetes               -0.342149\n",
       "health_conditions_Heart disease           0.604331\n",
       "health_conditions_High Blood Pressure    -0.032053\n",
       "health_conditions_None                    0.013627\n",
       "health_conditions_Other                   0.018478\n",
       "dtype: float64"
      ]
     },
     "execution_count": 43,
     "metadata": {},
     "output_type": "execute_result"
    }
   ],
   "source": [
    "coef = olsmodel2.params\n",
    "coef"
   ]
  },
  {
   "cell_type": "code",
   "execution_count": 44,
   "metadata": {
    "id": "6xb_-qb_jMPA"
   },
   "outputs": [
    {
     "name": "stdout",
     "output_type": "stream",
     "text": [
      "Stay (in days)=\t( 19.882990782594597 ) *  const + ( 0.0786134862882997 ) *  Available Extra Rooms in Hospital + ( -3.84295095344231e-05 ) *  Admission_Deposit + ( 6.082290257915942 ) *  Department_anesthesia + ( 0.4614346899368364 ) *  Department_gynecology + ( -4.621785263664629 ) *  Department_radiotherapy + ( 9.68452173974748 ) *  Department_surgery + ( 0.2563475580152858 ) *  Ward_Facility_Code_B + ( 0.4350385786226981 ) *  Ward_Facility_Code_C + ( 0.20265011441560654 ) *  Ward_Facility_Code_D + ( 0.3088030119915517 ) *  Ward_Facility_Code_E + ( 0.0024370175060676527 ) *  Ward_Facility_Code_F + ( 7.260505074608678 ) *  doctor_name_Dr John + ( 1.1938837510405926 ) *  doctor_name_Dr Mark + ( -0.2169127817017359 ) *  doctor_name_Dr Nathan + ( -0.3625612321184457 ) *  doctor_name_Dr Olivia + ( 1.2826455272579909 ) *  doctor_name_Dr Sam + ( 0.824731818615424 ) *  doctor_name_Dr Sarah + ( 6.158436144640317 ) *  doctor_name_Dr Simon + ( 0.2161768851416872 ) *  doctor_name_Dr Sophia + ( -12.73785746988325 ) *  Age_11-20 + ( -10.483086585839706 ) *  Age_21-30 + ( -13.435473749163457 ) *  Age_31-40 + ( -13.51136584004151 ) *  Age_41-50 + ( -0.3665106984648933 ) *  Age_51-60 + ( -0.4217107337678247 ) *  Age_61-70 + ( -0.21929878569361594 ) *  Age_71-80 + ( -0.017441419554644677 ) *  Age_81-90 + ( -0.2599791035289196 ) *  Age_91-100 + ( 6.002614873405803 ) *  gender_Male + ( -0.02582751016454908 ) *  gender_Other + ( -0.06686364325762637 ) *  Type of Admission_Trauma + ( 0.15001790330246492 ) *  Type of Admission_Urgent + ( 0.041827473872572 ) *  Severity of Illness_Minor + ( 0.09676224340736979 ) *  Severity of Illness_Moderate + ( -0.3421488743469359 ) *  health_conditions_Diabetes + ( 0.6043308750819489 ) *  health_conditions_Heart disease + ( -0.032053047728817174 ) *  health_conditions_High Blood Pressure + ( 0.013626800493213367 ) *  health_conditions_None + ( 0.01847823101376868 ) *  health_conditions_Other + "
     ]
    }
   ],
   "source": [
    "# Let us write the equation of the model\n",
    "Equation = \"Stay (in days)=\"\n",
    "print(Equation, end='\\t')\n",
    "for i in range(len(coef)):\n",
    "    print('(', coef[i], ') * ', coef.index[i], '+', end = ' ')"
   ]
  },
  {
   "cell_type": "markdown",
   "metadata": {
    "id": "QDggSWcb2pMV"
   },
   "source": [
    "### **Interpreting the Regression Coefficients**"
   ]
  },
  {
   "cell_type": "markdown",
   "metadata": {
    "id": "qty2K1BP2pMW"
   },
   "source": [
    "* **The Stay (in days) decreases with an increase in Department_radiotherapy. 1 unit increase in the Department_radiotherapy leads to a decrease of Stay (in days) ~ 4.62 times the Stay (in days) than the Department_TB&Chest_Disease that serves as a reference variable when everything else is constant**.\n",
    "\n",
    "\n",
    "\n",
    "* **The Stay (in days) increases with an increase in Department_anesthesia. 1 unit increase in Department_anesthesia leads to an increase of Stay (in days) ~ 6.08 times the Stay (in days) than the Department_TB&Chest_Disease that serves as a reference variable when everything else is constant. This is understandable, as anesthesia is used in severe cases which results in more days of stay.**\n",
    "\n",
    "\n",
    "\n",
    "* **The Stay (in days) increases with an increase in Department_surgery. 1 unit increase in Department_surgery leads to an increase of Stay (in days) ~ 9.68 times the Stay (in days) than the Department_TB&Chest_Disease that serves as a reference variable when everything else is constant. This is understandable, as surgery is conducted in severe cases which results in more days of stay.**\n",
    "\n",
    "\n",
    "\n",
    "* **The Stay (in days) increases with an increase in doctor_name_Dr Simon. 1 unit increase in doctor_name_Dr Simon leads to an increase of Stay (in days) ~ 6.14 times the Stay (in days) than the doctor_name_Dr Isaac that serves as a reference variable when everything else is constant. This is understandable, as surgery cases are handled by Dr. Simon.**"
   ]
  },
  {
   "cell_type": "markdown",
   "metadata": {},
   "source": [
    "## Next Steps"
   ]
  },
  {
   "cell_type": "markdown",
   "metadata": {},
   "source": [
    "- We have explored building a Linear Regression model for this problem statement of predicting the likely length of stay of a patient for a hospital visit, and we've also verified that the assumptions of Linear Regression are being satisfied, to make our final model statistically correct to draw inferences from.\n",
    "- However, being a linear model, it is more interpretable than a model with high predictive power. The performance metrics of our attempt at prediction can be improved with more complex and non-linear models."
   ]
  },
  {
   "cell_type": "code",
   "execution_count": null,
   "metadata": {},
   "outputs": [],
   "source": []
  }
 ],
 "metadata": {
  "accelerator": "GPU",
  "colab": {
   "provenance": []
  },
  "kernelspec": {
   "display_name": "Python 3 (ipykernel)",
   "language": "python",
   "name": "python3"
  },
  "language_info": {
   "codemirror_mode": {
    "name": "ipython",
    "version": 3
   },
   "file_extension": ".py",
   "mimetype": "text/x-python",
   "name": "python",
   "nbconvert_exporter": "python",
   "pygments_lexer": "ipython3",
   "version": "3.9.13"
  }
 },
 "nbformat": 4,
 "nbformat_minor": 1
}
